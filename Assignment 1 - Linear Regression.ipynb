{
 "cells": [
  {
   "cell_type": "markdown",
   "metadata": {},
   "source": [
    "# Assignment 1 - Prediction"
   ]
  },
  {
   "cell_type": "markdown",
   "metadata": {},
   "source": [
    "<img src=\"https://i.imgur.com/EDdtZam.png\" width=600 align=\"center\">"
   ]
  },
  {
   "cell_type": "markdown",
   "metadata": {},
   "source": [
    "# Contents\n",
    "1. [Project Objectives](#1.-Project-Objectives) <br>\n",
    "2. [What is the Naval Propulsion Plants dataset about?](#2.-What-is-the-Naval-Propulsion-Plants-dataset-about?)<br>\n",
    "3. [Read This First](#3.-Read-This-First) <br>\n",
    "4. [Data Exploration](#4.-Data-Exploration) <br>\n",
    "5. [Prediction using Linear Regression](#5.-Prediction-using-Linear-Regression) <br> \n",
    "a. [Predicting Y1](#a.-Predicting-Y1) <br>\n",
    "b. [Predicting Y2](#b.-Predicting-Y2) <br>\n",
    "6. [Predicting Test Set](#6.-Predicting-Test-Set) <br> \n",
    "7. [References](#7.-References) <br>\n",
    "8. [Grading Rubrics](#8.-Grading-Rubrics) <br>\n",
    "9. [Using R in Jupyter Notebook](#9.-Using-R-in-Jupyter-Notebook) "
   ]
  },
  {
   "cell_type": "markdown",
   "metadata": {},
   "source": [
    "# 1. Project Objectives"
   ]
  },
  {
   "cell_type": "markdown",
   "metadata": {},
   "source": [
    "In this assignment, the target is to predict the performance decay of the GT components such as GT Compressor and GT Turbine (two response variables) of a naval vessel, given 16 of its parameters (X1 to X16)"
   ]
  },
  {
   "cell_type": "markdown",
   "metadata": {},
   "source": [
    "# 2. What is the Naval Propulsion Plants dataset about?"
   ]
  },
  {
   "cell_type": "markdown",
   "metadata": {},
   "source": [
    "The experiments have been carried out by means of a numerical simulator of a naval vessel (Frigate) characterized by a Gas Turbine (GT) propulsion plant. The different blocks forming the complete simulator (Propeller, Hull, GT, Gear Box and Controller) have been developed and fine tuned over the year on several similar real propulsion plants. <br> <br>\n",
    "\n",
    "The range of decay of compressor and turbine has been sampled with an uniform grid of precision 0.001 so to have a good granularity of representation. <br>\n",
    "In particular for the compressor decay state discretization the kMc coefficient has been investigated in the domain [1; 0.95], and the turbine coefficient in the domain [1; 0.975].<br> \n",
    "\n",
    "<b>Link to original dataset:</b> http://archive.ics.uci.edu/ml/datasets/condition+based+maintenance+of+naval+propulsion+plants#"
   ]
  },
  {
   "cell_type": "markdown",
   "metadata": {},
   "source": [
    "## Attribute Names "
   ]
  },
  {
   "cell_type": "markdown",
   "metadata": {},
   "source": [
    "X1 - Lever position (lp) [ ] <br>\n",
    "X2 - Ship speed (v) [knots] <br>\n",
    "X3 - Gas Turbine shaft torque (GTT) [kN m] <br>\n",
    "X4 - Gas Turbine rate of revolutions (GTn) [rpm] <br>\n",
    "X5 - Gas Generator rate of revolutions (GGn) [rpm] <br>\n",
    "X6 - Starboard Propeller Torque (Ts) [kN] <br>\n",
    "X7 - Port Propeller Torque (Tp) [kN] <br>\n",
    "X8 - HP Turbine exit temperature (T48) [C] <br>\n",
    "X9 - GT Compressor inlet air temperature (T1) [C] <br>\n",
    "X10 - GT Compressor outlet air temperature (T2) [C] <br>\n",
    "X11 - HP Turbine exit pressure (P48) [bar] <br>\n",
    "X12 - GT Compressor inlet air pressure (P1) [bar] <br>\n",
    "X13 - GT Compressor outlet air pressure (P2) [bar] <br>\n",
    "X14 - Gas Turbine exhaust gas pressure (Pexh) [bar] <br>\n",
    "X15 - Turbine Injecton Control (TIC) [%] <br>\n",
    "X16 - Fuel flow (mf) [kg/s] <br>\n",
    "Y1 - GT Compressor decay state coefficient. <br>\n",
    "Y2 - GT Turbine decay state coefficient."
   ]
  },
  {
   "cell_type": "markdown",
   "metadata": {},
   "source": [
    "# 3. Read This First "
   ]
  },
  {
   "cell_type": "markdown",
   "metadata": {},
   "source": [
    "It can be quite hard to read code sometimes and to aid you in understanding my code and my process of thinking, <br> \n",
    "I have included my <b>explanation and thought process in <font color=green> green </font></b> and <b>weaved my insights and results in <font color=blue> blue </font> or as #comments. </font></b> "
   ]
  },
  {
   "cell_type": "markdown",
   "metadata": {},
   "source": [
    "### Importing libraries"
   ]
  },
  {
   "cell_type": "code",
   "execution_count": 1,
   "metadata": {},
   "outputs": [],
   "source": [
    "options(warn=-1)"
   ]
  },
  {
   "cell_type": "code",
   "execution_count": 2,
   "metadata": {},
   "outputs": [],
   "source": [
    "#install.packages(\"tidyverse\")\n",
    "#install.packages(\"corrplot\")\n",
    "#install.packages(\"rsample\")\n",
    "#install.packages(\"caret\")\n",
    "#install.packages(\"olsrr\")"
   ]
  },
  {
   "cell_type": "code",
   "execution_count": 3,
   "metadata": {},
   "outputs": [
    {
     "name": "stderr",
     "output_type": "stream",
     "text": [
      "-- Attaching packages --------------------------------------- tidyverse 1.2.1 --\n",
      "v ggplot2 3.2.1     v purrr   0.3.2\n",
      "v tibble  2.1.3     v dplyr   0.8.3\n",
      "v tidyr   1.0.0     v stringr 1.4.0\n",
      "v readr   1.3.1     v forcats 0.4.0\n",
      "-- Conflicts ------------------------------------------ tidyverse_conflicts() --\n",
      "x dplyr::filter() masks stats::filter()\n",
      "x dplyr::lag()    masks stats::lag()\n",
      "corrplot 0.84 loaded\n",
      "Loading required package: lattice\n",
      "\n",
      "Attaching package: 'caret'\n",
      "\n",
      "The following object is masked from 'package:purrr':\n",
      "\n",
      "    lift\n",
      "\n",
      "\n",
      "Attaching package: 'olsrr'\n",
      "\n",
      "The following object is masked from 'package:datasets':\n",
      "\n",
      "    rivers\n",
      "\n"
     ]
    }
   ],
   "source": [
    "library(tidyverse)\n",
    "library(corrplot)\n",
    "library(rsample)\n",
    "library(caret)\n",
    "library(olsrr)"
   ]
  },
  {
   "cell_type": "markdown",
   "metadata": {},
   "source": [
    "### Data Loading and Overview"
   ]
  },
  {
   "cell_type": "markdown",
   "metadata": {},
   "source": [
    "<font color=green> We first load the data and observe the structure of the datasets we are provided"
   ]
  },
  {
   "cell_type": "code",
   "execution_count": 4,
   "metadata": {},
   "outputs": [
    {
     "name": "stdout",
     "output_type": "stream",
     "text": [
      "'data.frame':\t10000 obs. of  18 variables:\n",
      " $ X1 : num  3.14 7.15 5.14 4.16 9.3 9.3 2.09 1.14 8.21 8.21 ...\n",
      " $ X2 : int  9 21 15 12 27 27 6 3 24 24 ...\n",
      " $ X3 : num  8374 39007 21639 14722 72759 ...\n",
      " $ X4 : num  1387 2678 1924 1547 3560 ...\n",
      " $ X5 : num  7014 9116 8514 7758 9729 ...\n",
      " $ X6 : num  60.3 332.5 175.3 113.8 644.7 ...\n",
      " $ X7 : num  60.3 332.5 175.3 113.8 644.7 ...\n",
      " $ X8 : num  586 822 705 653 1058 ...\n",
      " $ X9 : int  288 288 288 288 288 288 288 288 288 288 ...\n",
      " $ X10: num  578 687 640 610 772 ...\n",
      " $ X11: num  1.39 2.99 2.07 1.66 4.55 4.52 1.33 1.26 3.6 3.58 ...\n",
      " $ X12: int  1 1 1 1 1 1 1 1 1 1 ...\n",
      " $ X13: num  7.6 15.71 10.92 9.01 22.96 ...\n",
      " $ X14: num  1.02 1.04 1.03 1.02 1.05 1.05 1.02 1.02 1.04 1.04 ...\n",
      " $ X15: num  12.3 44 24.9 17.8 88.3 ...\n",
      " $ X16: num  0.24 0.87 0.49 0.35 1.75 1.79 0.26 0.25 1.18 1.22 ...\n",
      " $ Y1 : num  0.99 0.99 0.95 0.97 1 0.97 0.99 0.99 1 0.96 ...\n",
      " $ Y2 : num  0.98 0.98 1 0.98 0.98 0.98 1 0.99 0.99 0.98 ...\n",
      "'data.frame':\t1000 obs. of  16 variables:\n",
      " $ X1 : num  5.14 1.14 8.21 5.14 3.14 5.14 7.15 4.16 2.09 2.09 ...\n",
      " $ X2 : int  15 3 24 15 9 15 21 12 6 6 ...\n",
      " $ X3 : num  21628 1420 50997 21638 8376 ...\n",
      " $ X4 : num  1924 1388 3088 1924 1387 ...\n",
      " $ X5 : num  8472 6671 9314 8505 7069 ...\n",
      " $ X6 : num  175.24 9.72 438.12 175.32 60.32 ...\n",
      " $ X7 : num  175.24 9.72 438.12 175.32 60.32 ...\n",
      " $ X8 : num  710 484 938 711 575 ...\n",
      " $ X9 : int  288 288 288 288 288 288 288 288 288 288 ...\n",
      " $ X10: num  637 552 737 641 577 ...\n",
      " $ X11: num  2.09 1.15 3.58 2.08 1.39 2.09 2.98 1.66 1.31 1.23 ...\n",
      " $ X12: int  1 1 1 1 1 1 1 1 1 1 ...\n",
      " $ X13: num  11.17 6.19 18.54 11 7.47 ...\n",
      " $ X14: num  1.03 1.02 1.04 1.03 1.02 1.03 1.04 1.02 1.02 1.02 ...\n",
      " $ X15: num  25.32 0.47 61.43 25.22 11.88 ...\n",
      " $ X16: num  0.5 0.1 1.22 0.5 0.24 0.49 0.87 0.34 0.28 0.15 ...\n"
     ]
    }
   ],
   "source": [
    "naval_training_data <- read.csv(\"assign1_NavalData.csv\", header = TRUE)\n",
    "str(naval_training_data)\n",
    "naval_test_data <- read.csv(\"assign1_NavalPred.csv\", header = TRUE)\n",
    "str(naval_test_data)"
   ]
  },
  {
   "cell_type": "markdown",
   "metadata": {},
   "source": [
    "<font color=blue> Here we can observe that the training dataset has 18 variables with 10000 rows while the test set has 16 variables with 1000 rows. All variables are either numeric or integer. "
   ]
  },
  {
   "cell_type": "markdown",
   "metadata": {},
   "source": [
    "## [Back to top](#Contents) "
   ]
  },
  {
   "cell_type": "markdown",
   "metadata": {},
   "source": [
    "# 4. Data Exploration"
   ]
  },
  {
   "cell_type": "code",
   "execution_count": 5,
   "metadata": {},
   "outputs": [
    {
     "data": {
      "text/plain": [
       "       X1              X2              X3                X4      \n",
       " Min.   :1.140   Min.   : 3.00   Min.   :  253.6   Min.   :1308  \n",
       " 1st Qu.:3.140   1st Qu.: 9.00   1st Qu.: 8375.9   1st Qu.:1387  \n",
       " Median :5.140   Median :15.00   Median :21630.7   Median :1924  \n",
       " Mean   :5.162   Mean   :14.98   Mean   :27160.0   Mean   :2134  \n",
       " 3rd Qu.:7.150   3rd Qu.:21.00   3rd Qu.:39001.2   3rd Qu.:2678  \n",
       " Max.   :9.300   Max.   :27.00   Max.   :72783.3   Max.   :3561  \n",
       "       X5             X6               X7               X8        \n",
       " Min.   :6589   Min.   :  5.30   Min.   :  5.30   Min.   : 444.7  \n",
       " 1st Qu.:7058   1st Qu.: 60.32   1st Qu.: 60.32   1st Qu.: 590.0  \n",
       " Median :8482   Median :175.27   Median :175.27   Median : 706.0  \n",
       " Mean   :8198   Mean   :226.51   Mean   :226.51   Mean   : 734.9  \n",
       " 3rd Qu.:9132   3rd Qu.:332.36   3rd Qu.:332.36   3rd Qu.: 833.6  \n",
       " Max.   :9797   Max.   :645.25   Max.   :645.25   Max.   :1115.8  \n",
       "       X9           X10             X11             X12         X13       \n",
       " Min.   :288   Min.   :541.0   Min.   :1.090   Min.   :1   Min.   : 5.83  \n",
       " 1st Qu.:288   1st Qu.:578.1   1st Qu.:1.390   1st Qu.:1   1st Qu.: 7.45  \n",
       " Median :288   Median :637.1   Median :2.080   Median :1   Median :11.09  \n",
       " Mean   :288   Mean   :646.0   Mean   :2.349   Mean   :1   Mean   :12.28  \n",
       " 3rd Qu.:288   3rd Qu.:693.8   3rd Qu.:2.980   3rd Qu.:1   3rd Qu.:15.66  \n",
       " Max.   :288   Max.   :789.1   Max.   :4.560   Max.   :1   Max.   :23.14  \n",
       "      X14            X15             X16               Y1        \n",
       " Min.   :1.02   Min.   : 0.00   Min.   :0.0700   Min.   :0.9500  \n",
       " 1st Qu.:1.02   1st Qu.:14.12   1st Qu.:0.2500   1st Qu.:0.9600  \n",
       " Median :1.03   Median :25.27   Median :0.5000   Median :0.9800  \n",
       " Mean   :1.03   Mean   :33.56   Mean   :0.6607   Mean   :0.9757  \n",
       " 3rd Qu.:1.04   3rd Qu.:44.53   3rd Qu.:0.8800   3rd Qu.:0.9900  \n",
       " Max.   :1.05   Max.   :92.56   Max.   :1.8300   Max.   :1.0000  \n",
       "       Y2        \n",
       " Min.   :0.9800  \n",
       " 1st Qu.:0.9800  \n",
       " Median :0.9900  \n",
       " Mean   :0.9885  \n",
       " 3rd Qu.:0.9900  \n",
       " Max.   :1.0000  "
      ]
     },
     "metadata": {},
     "output_type": "display_data"
    }
   ],
   "source": [
    "summary(naval_training_data)"
   ]
  },
  {
   "cell_type": "markdown",
   "metadata": {},
   "source": [
    "<font color=blue> The summary here shows us that there is 0 NA values in all variables."
   ]
  },
  {
   "cell_type": "markdown",
   "metadata": {},
   "source": [
    "<font color=green> Let us also look at the no. of distinct values for each variable."
   ]
  },
  {
   "cell_type": "code",
   "execution_count": 6,
   "metadata": {},
   "outputs": [
    {
     "data": {
      "text/html": [
       "<table>\n",
       "<thead><tr><th scope=col>X1</th><th scope=col>X2</th><th scope=col>X3</th><th scope=col>X4</th><th scope=col>X5</th><th scope=col>X6</th><th scope=col>X7</th><th scope=col>X8</th><th scope=col>X9</th><th scope=col>X10</th><th scope=col>X11</th><th scope=col>X12</th><th scope=col>X13</th><th scope=col>X14</th><th scope=col>X15</th><th scope=col>X16</th><th scope=col>Y1</th><th scope=col>Y2</th></tr></thead>\n",
       "<tbody>\n",
       "\t<tr><td>9   </td><td>9   </td><td>7443</td><td>2138</td><td>9346</td><td>1384</td><td>1384</td><td>8991</td><td>1   </td><td>7377</td><td>60  </td><td>1   </td><td>509 </td><td>4   </td><td>3089</td><td>76  </td><td>6   </td><td>3   </td></tr>\n",
       "</tbody>\n",
       "</table>\n"
      ],
      "text/latex": [
       "\\begin{tabular}{r|llllllllllllllllll}\n",
       " X1 & X2 & X3 & X4 & X5 & X6 & X7 & X8 & X9 & X10 & X11 & X12 & X13 & X14 & X15 & X16 & Y1 & Y2\\\\\n",
       "\\hline\n",
       "\t 9    & 9    & 7443 & 2138 & 9346 & 1384 & 1384 & 8991 & 1    & 7377 & 60   & 1    & 509  & 4    & 3089 & 76   & 6    & 3   \\\\\n",
       "\\end{tabular}\n"
      ],
      "text/markdown": [
       "\n",
       "| X1 | X2 | X3 | X4 | X5 | X6 | X7 | X8 | X9 | X10 | X11 | X12 | X13 | X14 | X15 | X16 | Y1 | Y2 |\n",
       "|---|---|---|---|---|---|---|---|---|---|---|---|---|---|---|---|---|---|\n",
       "| 9    | 9    | 7443 | 2138 | 9346 | 1384 | 1384 | 8991 | 1    | 7377 | 60   | 1    | 509  | 4    | 3089 | 76   | 6    | 3    |\n",
       "\n"
      ],
      "text/plain": [
       "  X1 X2 X3   X4   X5   X6   X7   X8   X9 X10  X11 X12 X13 X14 X15  X16 Y1 Y2\n",
       "1 9  9  7443 2138 9346 1384 1384 8991 1  7377 60  1   509 4   3089 76  6  3 "
      ]
     },
     "metadata": {},
     "output_type": "display_data"
    }
   ],
   "source": [
    "naval_training_data %>% summarise_all(n_distinct)"
   ]
  },
  {
   "cell_type": "markdown",
   "metadata": {},
   "source": [
    "<font color=blue> The above shows that X9 and X12 only have 1 distinct value. As such, the inclusion of X9 and X12 is inconsequential to predicting Y1 & Y2. We can remove X9 and X12. "
   ]
  },
  {
   "cell_type": "markdown",
   "metadata": {},
   "source": [
    "<font color=green> X9 and X12 is removed and ```dim(naval_training_data)``` is used to confirm that the features have been removed."
   ]
  },
  {
   "cell_type": "code",
   "execution_count": 7,
   "metadata": {},
   "outputs": [
    {
     "data": {
      "text/html": [
       "<ol class=list-inline>\n",
       "\t<li>10000</li>\n",
       "\t<li>16</li>\n",
       "</ol>\n"
      ],
      "text/latex": [
       "\\begin{enumerate*}\n",
       "\\item 10000\n",
       "\\item 16\n",
       "\\end{enumerate*}\n"
      ],
      "text/markdown": [
       "1. 10000\n",
       "2. 16\n",
       "\n",
       "\n"
      ],
      "text/plain": [
       "[1] 10000    16"
      ]
     },
     "metadata": {},
     "output_type": "display_data"
    }
   ],
   "source": [
    "naval_training_data <- select(naval_training_data, -c(9,12))\n",
    "dim(naval_training_data)"
   ]
  },
  {
   "cell_type": "code",
   "execution_count": 8,
   "metadata": {},
   "outputs": [
    {
     "data": {
      "image/png": "[encoded data removed]",
      "text/plain": [
       "plot without title"
      ]
     },
     "metadata": {},
     "output_type": "display_data"
    }
   ],
   "source": [
    "ggplot(gather(naval_training_data), aes(x = \"\", y = value)) + \n",
    "    geom_boxplot(color = \"steelblue\", outlier.size=3, outlier.color='orange') + \n",
    "    facet_wrap(~key, scales = 'free') + \n",
    "    theme_minimal()"
   ]
  },
  {
   "cell_type": "markdown",
   "metadata": {},
   "source": [
    "<font color=blue> It looks like most of the features are distributed normally. There are outliers in X15 and X16. "
   ]
  },
  {
   "cell_type": "markdown",
   "metadata": {},
   "source": [
    "<font color=green> Below, we gather the data and observe the distributions of the predictor and target features using histograms. "
   ]
  },
  {
   "cell_type": "code",
   "execution_count": 9,
   "metadata": {},
   "outputs": [
    {
     "data": {
      "image/png": "[encoded data removed]",
      "text/plain": [
       "plot without title"
      ]
     },
     "metadata": {},
     "output_type": "display_data"
    }
   ],
   "source": [
    "ggplot(gather(naval_training_data), aes(value)) + \n",
    "    geom_histogram(fill = \"steelblue\", bins = 8, col = \"white\") + \n",
    "    facet_wrap(~key, scales = 'free' ) +\n",
    "    theme_minimal()"
   ]
  },
  {
   "cell_type": "markdown",
   "metadata": {},
   "source": [
    "<font color=blue> Y1 and Y2 are not only numerical but distinct too. Let's observe the distribution of Y1 and Y2 closer on a kernel density plot. "
   ]
  },
  {
   "cell_type": "code",
   "execution_count": 10,
   "metadata": {},
   "outputs": [
    {
     "data": {
      "image/png": "[encoded data removed]",
      "text/plain": [
       "plot without title"
      ]
     },
     "metadata": {},
     "output_type": "display_data"
    },
    {
     "data": {
      "image/png": "[encoded data removed]",
      "text/plain": [
       "plot without title"
      ]
     },
     "metadata": {},
     "output_type": "display_data"
    }
   ],
   "source": [
    "#Y1\n",
    "ggplot(data = naval_training_data, aes(Y1)) + \n",
    "        geom_density(color = \"white\", fill = \"steelblue\", alpha = 0.6) + \n",
    "        scale_x_continuous(name = \"GT Compressor decay state coefficient\", breaks = c(.95, .96, .97, .98, .99, 1)) + \n",
    "        theme_minimal()\n",
    "#Y2\n",
    "ggplot(data = naval_training_data, aes(Y2)) + \n",
    "        geom_density(color = \"white\", fill = \"steelblue\", alpha = 0.6) + \n",
    "        scale_x_continuous(name = \"GT Turbine decay state coefficient\") +\n",
    "        theme_minimal()"
   ]
  },
  {
   "cell_type": "markdown",
   "metadata": {},
   "source": [
    "<font color=blue> The Gas Turbine Compressor state is being modeled as a performance decay state metric which is measured as 1 to 0, 1 meaning delivering 100% of the nominal performance. <br>\n",
    "\n",
    "A quick glance shows us that Y1 and Y2 are distributed across 5 and 3 \"categories\"."
   ]
  },
  {
   "cell_type": "code",
   "execution_count": 11,
   "metadata": {},
   "outputs": [
    {
     "data": {
      "text/html": [
       "<ol class=list-inline>\n",
       "\t<li>0.95</li>\n",
       "\t<li>0.96</li>\n",
       "\t<li>0.97</li>\n",
       "\t<li>0.98</li>\n",
       "\t<li>0.99</li>\n",
       "\t<li>1</li>\n",
       "</ol>\n"
      ],
      "text/latex": [
       "\\begin{enumerate*}\n",
       "\\item 0.95\n",
       "\\item 0.96\n",
       "\\item 0.97\n",
       "\\item 0.98\n",
       "\\item 0.99\n",
       "\\item 1\n",
       "\\end{enumerate*}\n"
      ],
      "text/markdown": [
       "1. 0.95\n",
       "2. 0.96\n",
       "3. 0.97\n",
       "4. 0.98\n",
       "5. 0.99\n",
       "6. 1\n",
       "\n",
       "\n"
      ],
      "text/plain": [
       "[1] 0.95 0.96 0.97 0.98 0.99 1.00"
      ]
     },
     "metadata": {},
     "output_type": "display_data"
    },
    {
     "data": {
      "text/html": [
       "<ol class=list-inline>\n",
       "\t<li>0.98</li>\n",
       "\t<li>0.99</li>\n",
       "\t<li>1</li>\n",
       "</ol>\n"
      ],
      "text/latex": [
       "\\begin{enumerate*}\n",
       "\\item 0.98\n",
       "\\item 0.99\n",
       "\\item 1\n",
       "\\end{enumerate*}\n"
      ],
      "text/markdown": [
       "1. 0.98\n",
       "2. 0.99\n",
       "3. 1\n",
       "\n",
       "\n"
      ],
      "text/plain": [
       "[1] 0.98 0.99 1.00"
      ]
     },
     "metadata": {},
     "output_type": "display_data"
    }
   ],
   "source": [
    "sort(unique(naval_training_data$Y1))\n",
    "sort(unique(naval_training_data$Y2))"
   ]
  },
  {
   "cell_type": "markdown",
   "metadata": {},
   "source": [
    "<font color=blue> Further confirmation tells us that the values range from 0.95 to 1. <b>These values will be important in grouping the fitted values later</b>"
   ]
  },
  {
   "cell_type": "code",
   "execution_count": 12,
   "metadata": {},
   "outputs": [
    {
     "data": {
      "text/html": [
       "<table>\n",
       "<thead><tr><th></th><th scope=col>X1</th><th scope=col>X2</th><th scope=col>X3</th><th scope=col>X4</th><th scope=col>X5</th><th scope=col>X6</th><th scope=col>X7</th><th scope=col>X8</th><th scope=col>X10</th><th scope=col>X11</th><th scope=col>X13</th><th scope=col>X14</th><th scope=col>X15</th><th scope=col>X16</th><th scope=col>Y1</th><th scope=col>Y2</th></tr></thead>\n",
       "<tbody>\n",
       "\t<tr><th scope=row>X1</th><td> 1.000000000</td><td> 0.999918932</td><td> 0.961060859</td><td> 0.962170527</td><td> 0.986018461</td><td> 0.959275784</td><td> 0.959275784</td><td> 0.96136311 </td><td> 0.98290152 </td><td> 0.963095924</td><td> 0.969167929</td><td> 0.939948005</td><td> 0.91278119 </td><td> 0.93133395 </td><td>-0.006831136</td><td>-0.004758308</td></tr>\n",
       "\t<tr><th scope=row>X2</th><td> 0.999918932</td><td> 1.000000000</td><td> 0.958307867</td><td> 0.960416376</td><td> 0.986548821</td><td> 0.956445990</td><td> 0.956445990</td><td> 0.95897532 </td><td> 0.98129333 </td><td> 0.960647472</td><td> 0.967014773</td><td> 0.938787319</td><td> 0.90918605 </td><td> 0.92776844 </td><td>-0.006896537</td><td>-0.004737331</td></tr>\n",
       "\t<tr><th scope=row>X3</th><td> 0.961060859</td><td> 0.958307867</td><td> 1.000000000</td><td> 0.989710627</td><td> 0.932836760</td><td> 0.999172632</td><td> 0.999172632</td><td> 0.99111711 </td><td> 0.99018396 </td><td> 0.998888416</td><td> 0.997576076</td><td> 0.972969659</td><td> 0.97748359 </td><td> 0.99503535 </td><td>-0.002047114</td><td>-0.004087297</td></tr>\n",
       "\t<tr><th scope=row>X4</th><td> 0.962170527</td><td> 0.960416376</td><td> 0.989710627</td><td> 1.000000000</td><td> 0.942750924</td><td> 0.988613230</td><td> 0.988613230</td><td> 0.97960588 </td><td> 0.98921870 </td><td> 0.995108006</td><td> 0.996031986</td><td> 0.982595630</td><td> 0.96199425 </td><td> 0.98019742 </td><td>-0.003118643</td><td>-0.004376194</td></tr>\n",
       "\t<tr><th scope=row>X5</th><td> 0.986018461</td><td> 0.986548821</td><td> 0.932836760</td><td> 0.942750924</td><td> 1.000000000</td><td> 0.929454314</td><td> 0.929454314</td><td> 0.93968908 </td><td> 0.96661694 </td><td> 0.937287676</td><td> 0.945731565</td><td> 0.930584897</td><td> 0.87808002 </td><td> 0.89662692 </td><td>-0.025153234</td><td> 0.005878501</td></tr>\n",
       "\t<tr><th scope=row>X6</th><td> 0.959275784</td><td> 0.956445990</td><td> 0.999172632</td><td> 0.988613230</td><td> 0.929454314</td><td> 1.000000000</td><td> 1.000000000</td><td> 0.98594120 </td><td> 0.98733461 </td><td> 0.997995101</td><td> 0.996164013</td><td> 0.972923822</td><td> 0.97703954 </td><td> 0.99430721 </td><td>-0.004261568</td><td>-0.004578771</td></tr>\n",
       "\t<tr><th scope=row>X7</th><td> 0.959275784</td><td> 0.956445990</td><td> 0.999172632</td><td> 0.988613230</td><td> 0.929454314</td><td> 1.000000000</td><td> 1.000000000</td><td> 0.98594120 </td><td> 0.98733461 </td><td> 0.997995101</td><td> 0.996164013</td><td> 0.972923822</td><td> 0.97703954 </td><td> 0.99430721 </td><td>-0.004261568</td><td>-0.004578771</td></tr>\n",
       "\t<tr><th scope=row>X8</th><td> 0.961363106</td><td> 0.958975323</td><td> 0.991117108</td><td> 0.979605879</td><td> 0.939689075</td><td> 0.985941204</td><td> 0.985941204</td><td> 1.00000000 </td><td> 0.99228188 </td><td> 0.989368313</td><td> 0.990447825</td><td> 0.961339751</td><td> 0.96927553 </td><td> 0.98623588 </td><td>-0.044284518</td><td>-0.039745766</td></tr>\n",
       "\t<tr><th scope=row>X10</th><td> 0.982901522</td><td> 0.981293328</td><td> 0.990183964</td><td> 0.989218702</td><td> 0.966616938</td><td> 0.987334609</td><td> 0.987334609</td><td> 0.99228188 </td><td> 1.00000000 </td><td> 0.991669537</td><td> 0.994336058</td><td> 0.967675185</td><td> 0.95811467 </td><td> 0.97630253 </td><td>-0.051898504</td><td>-0.020041470</td></tr>\n",
       "\t<tr><th scope=row>X11</th><td> 0.963095924</td><td> 0.960647472</td><td> 0.998888416</td><td> 0.995108006</td><td> 0.937287676</td><td> 0.997995101</td><td> 0.997995101</td><td> 0.98936831 </td><td> 0.99166954 </td><td> 1.000000000</td><td> 0.999397450</td><td> 0.978193788</td><td> 0.97533481 </td><td> 0.99268366 </td><td> 0.002945739</td><td>-0.006871948</td></tr>\n",
       "\t<tr><th scope=row>X13</th><td> 0.969167929</td><td> 0.967014773</td><td> 0.997576076</td><td> 0.996031986</td><td> 0.945731565</td><td> 0.996164013</td><td> 0.996164013</td><td> 0.99044783 </td><td> 0.99433606 </td><td> 0.999397450</td><td> 1.000000000</td><td> 0.978681796</td><td> 0.97171049 </td><td> 0.98921646 </td><td> 0.003249422</td><td>-0.021517833</td></tr>\n",
       "\t<tr><th scope=row>X14</th><td> 0.939948005</td><td> 0.938787319</td><td> 0.972969659</td><td> 0.982595630</td><td> 0.930584897</td><td> 0.972923822</td><td> 0.972923822</td><td> 0.96133975 </td><td> 0.96767519 </td><td> 0.978193788</td><td> 0.978681796</td><td> 1.000000000</td><td> 0.94932212 </td><td> 0.96452928 </td><td>-0.005631884</td><td>-0.002865694</td></tr>\n",
       "\t<tr><th scope=row>X15</th><td> 0.912781187</td><td> 0.909186053</td><td> 0.977483586</td><td> 0.961994252</td><td> 0.878080018</td><td> 0.977039542</td><td> 0.977039542</td><td> 0.96927553 </td><td> 0.95811467 </td><td> 0.975334806</td><td> 0.971710488</td><td> 0.949322120</td><td> 1.00000000 </td><td> 0.98533613 </td><td>-0.035551428</td><td>-0.021399292</td></tr>\n",
       "\t<tr><th scope=row>X16</th><td> 0.931333951</td><td> 0.927768436</td><td> 0.995035351</td><td> 0.980197416</td><td> 0.896626923</td><td> 0.994307212</td><td> 0.994307212</td><td> 0.98623588 </td><td> 0.97630253 </td><td> 0.992683665</td><td> 0.989216457</td><td> 0.964529281</td><td> 0.98533613 </td><td> 1.00000000 </td><td>-0.017788588</td><td>-0.020441146</td></tr>\n",
       "\t<tr><th scope=row>Y1</th><td>-0.006831136</td><td>-0.006896537</td><td>-0.002047114</td><td>-0.003118643</td><td>-0.025153234</td><td>-0.004261568</td><td>-0.004261568</td><td>-0.04428452 </td><td>-0.05189850 </td><td> 0.002945739</td><td> 0.003249422</td><td>-0.005631884</td><td>-0.03555143 </td><td>-0.01778859 </td><td> 1.000000000</td><td>-0.001220496</td></tr>\n",
       "\t<tr><th scope=row>Y2</th><td>-0.004758308</td><td>-0.004737331</td><td>-0.004087297</td><td>-0.004376194</td><td> 0.005878501</td><td>-0.004578771</td><td>-0.004578771</td><td>-0.03974577 </td><td>-0.02004147 </td><td>-0.006871948</td><td>-0.021517833</td><td>-0.002865694</td><td>-0.02139929 </td><td>-0.02044115 </td><td>-0.001220496</td><td> 1.000000000</td></tr>\n",
       "</tbody>\n",
       "</table>\n"
      ],
      "text/latex": [
       "\\begin{tabular}{r|llllllllllllllll}\n",
       "  & X1 & X2 & X3 & X4 & X5 & X6 & X7 & X8 & X10 & X11 & X13 & X14 & X15 & X16 & Y1 & Y2\\\\\n",
       "\\hline\n",
       "\tX1 &  1.000000000 &  0.999918932 &  0.961060859 &  0.962170527 &  0.986018461 &  0.959275784 &  0.959275784 &  0.96136311  &  0.98290152  &  0.963095924 &  0.969167929 &  0.939948005 &  0.91278119  &  0.93133395  & -0.006831136 & -0.004758308\\\\\n",
       "\tX2 &  0.999918932 &  1.000000000 &  0.958307867 &  0.960416376 &  0.986548821 &  0.956445990 &  0.956445990 &  0.95897532  &  0.98129333  &  0.960647472 &  0.967014773 &  0.938787319 &  0.90918605  &  0.92776844  & -0.006896537 & -0.004737331\\\\\n",
       "\tX3 &  0.961060859 &  0.958307867 &  1.000000000 &  0.989710627 &  0.932836760 &  0.999172632 &  0.999172632 &  0.99111711  &  0.99018396  &  0.998888416 &  0.997576076 &  0.972969659 &  0.97748359  &  0.99503535  & -0.002047114 & -0.004087297\\\\\n",
       "\tX4 &  0.962170527 &  0.960416376 &  0.989710627 &  1.000000000 &  0.942750924 &  0.988613230 &  0.988613230 &  0.97960588  &  0.98921870  &  0.995108006 &  0.996031986 &  0.982595630 &  0.96199425  &  0.98019742  & -0.003118643 & -0.004376194\\\\\n",
       "\tX5 &  0.986018461 &  0.986548821 &  0.932836760 &  0.942750924 &  1.000000000 &  0.929454314 &  0.929454314 &  0.93968908  &  0.96661694  &  0.937287676 &  0.945731565 &  0.930584897 &  0.87808002  &  0.89662692  & -0.025153234 &  0.005878501\\\\\n",
       "\tX6 &  0.959275784 &  0.956445990 &  0.999172632 &  0.988613230 &  0.929454314 &  1.000000000 &  1.000000000 &  0.98594120  &  0.98733461  &  0.997995101 &  0.996164013 &  0.972923822 &  0.97703954  &  0.99430721  & -0.004261568 & -0.004578771\\\\\n",
       "\tX7 &  0.959275784 &  0.956445990 &  0.999172632 &  0.988613230 &  0.929454314 &  1.000000000 &  1.000000000 &  0.98594120  &  0.98733461  &  0.997995101 &  0.996164013 &  0.972923822 &  0.97703954  &  0.99430721  & -0.004261568 & -0.004578771\\\\\n",
       "\tX8 &  0.961363106 &  0.958975323 &  0.991117108 &  0.979605879 &  0.939689075 &  0.985941204 &  0.985941204 &  1.00000000  &  0.99228188  &  0.989368313 &  0.990447825 &  0.961339751 &  0.96927553  &  0.98623588  & -0.044284518 & -0.039745766\\\\\n",
       "\tX10 &  0.982901522 &  0.981293328 &  0.990183964 &  0.989218702 &  0.966616938 &  0.987334609 &  0.987334609 &  0.99228188  &  1.00000000  &  0.991669537 &  0.994336058 &  0.967675185 &  0.95811467  &  0.97630253  & -0.051898504 & -0.020041470\\\\\n",
       "\tX11 &  0.963095924 &  0.960647472 &  0.998888416 &  0.995108006 &  0.937287676 &  0.997995101 &  0.997995101 &  0.98936831  &  0.99166954  &  1.000000000 &  0.999397450 &  0.978193788 &  0.97533481  &  0.99268366  &  0.002945739 & -0.006871948\\\\\n",
       "\tX13 &  0.969167929 &  0.967014773 &  0.997576076 &  0.996031986 &  0.945731565 &  0.996164013 &  0.996164013 &  0.99044783  &  0.99433606  &  0.999397450 &  1.000000000 &  0.978681796 &  0.97171049  &  0.98921646  &  0.003249422 & -0.021517833\\\\\n",
       "\tX14 &  0.939948005 &  0.938787319 &  0.972969659 &  0.982595630 &  0.930584897 &  0.972923822 &  0.972923822 &  0.96133975  &  0.96767519  &  0.978193788 &  0.978681796 &  1.000000000 &  0.94932212  &  0.96452928  & -0.005631884 & -0.002865694\\\\\n",
       "\tX15 &  0.912781187 &  0.909186053 &  0.977483586 &  0.961994252 &  0.878080018 &  0.977039542 &  0.977039542 &  0.96927553  &  0.95811467  &  0.975334806 &  0.971710488 &  0.949322120 &  1.00000000  &  0.98533613  & -0.035551428 & -0.021399292\\\\\n",
       "\tX16 &  0.931333951 &  0.927768436 &  0.995035351 &  0.980197416 &  0.896626923 &  0.994307212 &  0.994307212 &  0.98623588  &  0.97630253  &  0.992683665 &  0.989216457 &  0.964529281 &  0.98533613  &  1.00000000  & -0.017788588 & -0.020441146\\\\\n",
       "\tY1 & -0.006831136 & -0.006896537 & -0.002047114 & -0.003118643 & -0.025153234 & -0.004261568 & -0.004261568 & -0.04428452  & -0.05189850  &  0.002945739 &  0.003249422 & -0.005631884 & -0.03555143  & -0.01778859  &  1.000000000 & -0.001220496\\\\\n",
       "\tY2 & -0.004758308 & -0.004737331 & -0.004087297 & -0.004376194 &  0.005878501 & -0.004578771 & -0.004578771 & -0.03974577  & -0.02004147  & -0.006871948 & -0.021517833 & -0.002865694 & -0.02139929  & -0.02044115  & -0.001220496 &  1.000000000\\\\\n",
       "\\end{tabular}\n"
      ],
      "text/markdown": [
       "\n",
       "| <!--/--> | X1 | X2 | X3 | X4 | X5 | X6 | X7 | X8 | X10 | X11 | X13 | X14 | X15 | X16 | Y1 | Y2 |\n",
       "|---|---|---|---|---|---|---|---|---|---|---|---|---|---|---|---|---|\n",
       "| X1 |  1.000000000 |  0.999918932 |  0.961060859 |  0.962170527 |  0.986018461 |  0.959275784 |  0.959275784 |  0.96136311  |  0.98290152  |  0.963095924 |  0.969167929 |  0.939948005 |  0.91278119  |  0.93133395  | -0.006831136 | -0.004758308 |\n",
       "| X2 |  0.999918932 |  1.000000000 |  0.958307867 |  0.960416376 |  0.986548821 |  0.956445990 |  0.956445990 |  0.95897532  |  0.98129333  |  0.960647472 |  0.967014773 |  0.938787319 |  0.90918605  |  0.92776844  | -0.006896537 | -0.004737331 |\n",
       "| X3 |  0.961060859 |  0.958307867 |  1.000000000 |  0.989710627 |  0.932836760 |  0.999172632 |  0.999172632 |  0.99111711  |  0.99018396  |  0.998888416 |  0.997576076 |  0.972969659 |  0.97748359  |  0.99503535  | -0.002047114 | -0.004087297 |\n",
       "| X4 |  0.962170527 |  0.960416376 |  0.989710627 |  1.000000000 |  0.942750924 |  0.988613230 |  0.988613230 |  0.97960588  |  0.98921870  |  0.995108006 |  0.996031986 |  0.982595630 |  0.96199425  |  0.98019742  | -0.003118643 | -0.004376194 |\n",
       "| X5 |  0.986018461 |  0.986548821 |  0.932836760 |  0.942750924 |  1.000000000 |  0.929454314 |  0.929454314 |  0.93968908  |  0.96661694  |  0.937287676 |  0.945731565 |  0.930584897 |  0.87808002  |  0.89662692  | -0.025153234 |  0.005878501 |\n",
       "| X6 |  0.959275784 |  0.956445990 |  0.999172632 |  0.988613230 |  0.929454314 |  1.000000000 |  1.000000000 |  0.98594120  |  0.98733461  |  0.997995101 |  0.996164013 |  0.972923822 |  0.97703954  |  0.99430721  | -0.004261568 | -0.004578771 |\n",
       "| X7 |  0.959275784 |  0.956445990 |  0.999172632 |  0.988613230 |  0.929454314 |  1.000000000 |  1.000000000 |  0.98594120  |  0.98733461  |  0.997995101 |  0.996164013 |  0.972923822 |  0.97703954  |  0.99430721  | -0.004261568 | -0.004578771 |\n",
       "| X8 |  0.961363106 |  0.958975323 |  0.991117108 |  0.979605879 |  0.939689075 |  0.985941204 |  0.985941204 |  1.00000000  |  0.99228188  |  0.989368313 |  0.990447825 |  0.961339751 |  0.96927553  |  0.98623588  | -0.044284518 | -0.039745766 |\n",
       "| X10 |  0.982901522 |  0.981293328 |  0.990183964 |  0.989218702 |  0.966616938 |  0.987334609 |  0.987334609 |  0.99228188  |  1.00000000  |  0.991669537 |  0.994336058 |  0.967675185 |  0.95811467  |  0.97630253  | -0.051898504 | -0.020041470 |\n",
       "| X11 |  0.963095924 |  0.960647472 |  0.998888416 |  0.995108006 |  0.937287676 |  0.997995101 |  0.997995101 |  0.98936831  |  0.99166954  |  1.000000000 |  0.999397450 |  0.978193788 |  0.97533481  |  0.99268366  |  0.002945739 | -0.006871948 |\n",
       "| X13 |  0.969167929 |  0.967014773 |  0.997576076 |  0.996031986 |  0.945731565 |  0.996164013 |  0.996164013 |  0.99044783  |  0.99433606  |  0.999397450 |  1.000000000 |  0.978681796 |  0.97171049  |  0.98921646  |  0.003249422 | -0.021517833 |\n",
       "| X14 |  0.939948005 |  0.938787319 |  0.972969659 |  0.982595630 |  0.930584897 |  0.972923822 |  0.972923822 |  0.96133975  |  0.96767519  |  0.978193788 |  0.978681796 |  1.000000000 |  0.94932212  |  0.96452928  | -0.005631884 | -0.002865694 |\n",
       "| X15 |  0.912781187 |  0.909186053 |  0.977483586 |  0.961994252 |  0.878080018 |  0.977039542 |  0.977039542 |  0.96927553  |  0.95811467  |  0.975334806 |  0.971710488 |  0.949322120 |  1.00000000  |  0.98533613  | -0.035551428 | -0.021399292 |\n",
       "| X16 |  0.931333951 |  0.927768436 |  0.995035351 |  0.980197416 |  0.896626923 |  0.994307212 |  0.994307212 |  0.98623588  |  0.97630253  |  0.992683665 |  0.989216457 |  0.964529281 |  0.98533613  |  1.00000000  | -0.017788588 | -0.020441146 |\n",
       "| Y1 | -0.006831136 | -0.006896537 | -0.002047114 | -0.003118643 | -0.025153234 | -0.004261568 | -0.004261568 | -0.04428452  | -0.05189850  |  0.002945739 |  0.003249422 | -0.005631884 | -0.03555143  | -0.01778859  |  1.000000000 | -0.001220496 |\n",
       "| Y2 | -0.004758308 | -0.004737331 | -0.004087297 | -0.004376194 |  0.005878501 | -0.004578771 | -0.004578771 | -0.03974577  | -0.02004147  | -0.006871948 | -0.021517833 | -0.002865694 | -0.02139929  | -0.02044115  | -0.001220496 |  1.000000000 |\n",
       "\n"
      ],
      "text/plain": [
       "    X1           X2           X3           X4           X5          \n",
       "X1   1.000000000  0.999918932  0.961060859  0.962170527  0.986018461\n",
       "X2   0.999918932  1.000000000  0.958307867  0.960416376  0.986548821\n",
       "X3   0.961060859  0.958307867  1.000000000  0.989710627  0.932836760\n",
       "X4   0.962170527  0.960416376  0.989710627  1.000000000  0.942750924\n",
       "X5   0.986018461  0.986548821  0.932836760  0.942750924  1.000000000\n",
       "X6   0.959275784  0.956445990  0.999172632  0.988613230  0.929454314\n",
       "X7   0.959275784  0.956445990  0.999172632  0.988613230  0.929454314\n",
       "X8   0.961363106  0.958975323  0.991117108  0.979605879  0.939689075\n",
       "X10  0.982901522  0.981293328  0.990183964  0.989218702  0.966616938\n",
       "X11  0.963095924  0.960647472  0.998888416  0.995108006  0.937287676\n",
       "X13  0.969167929  0.967014773  0.997576076  0.996031986  0.945731565\n",
       "X14  0.939948005  0.938787319  0.972969659  0.982595630  0.930584897\n",
       "X15  0.912781187  0.909186053  0.977483586  0.961994252  0.878080018\n",
       "X16  0.931333951  0.927768436  0.995035351  0.980197416  0.896626923\n",
       "Y1  -0.006831136 -0.006896537 -0.002047114 -0.003118643 -0.025153234\n",
       "Y2  -0.004758308 -0.004737331 -0.004087297 -0.004376194  0.005878501\n",
       "    X6           X7           X8          X10         X11          X13         \n",
       "X1   0.959275784  0.959275784  0.96136311  0.98290152  0.963095924  0.969167929\n",
       "X2   0.956445990  0.956445990  0.95897532  0.98129333  0.960647472  0.967014773\n",
       "X3   0.999172632  0.999172632  0.99111711  0.99018396  0.998888416  0.997576076\n",
       "X4   0.988613230  0.988613230  0.97960588  0.98921870  0.995108006  0.996031986\n",
       "X5   0.929454314  0.929454314  0.93968908  0.96661694  0.937287676  0.945731565\n",
       "X6   1.000000000  1.000000000  0.98594120  0.98733461  0.997995101  0.996164013\n",
       "X7   1.000000000  1.000000000  0.98594120  0.98733461  0.997995101  0.996164013\n",
       "X8   0.985941204  0.985941204  1.00000000  0.99228188  0.989368313  0.990447825\n",
       "X10  0.987334609  0.987334609  0.99228188  1.00000000  0.991669537  0.994336058\n",
       "X11  0.997995101  0.997995101  0.98936831  0.99166954  1.000000000  0.999397450\n",
       "X13  0.996164013  0.996164013  0.99044783  0.99433606  0.999397450  1.000000000\n",
       "X14  0.972923822  0.972923822  0.96133975  0.96767519  0.978193788  0.978681796\n",
       "X15  0.977039542  0.977039542  0.96927553  0.95811467  0.975334806  0.971710488\n",
       "X16  0.994307212  0.994307212  0.98623588  0.97630253  0.992683665  0.989216457\n",
       "Y1  -0.004261568 -0.004261568 -0.04428452 -0.05189850  0.002945739  0.003249422\n",
       "Y2  -0.004578771 -0.004578771 -0.03974577 -0.02004147 -0.006871948 -0.021517833\n",
       "    X14          X15         X16         Y1           Y2          \n",
       "X1   0.939948005  0.91278119  0.93133395 -0.006831136 -0.004758308\n",
       "X2   0.938787319  0.90918605  0.92776844 -0.006896537 -0.004737331\n",
       "X3   0.972969659  0.97748359  0.99503535 -0.002047114 -0.004087297\n",
       "X4   0.982595630  0.96199425  0.98019742 -0.003118643 -0.004376194\n",
       "X5   0.930584897  0.87808002  0.89662692 -0.025153234  0.005878501\n",
       "X6   0.972923822  0.97703954  0.99430721 -0.004261568 -0.004578771\n",
       "X7   0.972923822  0.97703954  0.99430721 -0.004261568 -0.004578771\n",
       "X8   0.961339751  0.96927553  0.98623588 -0.044284518 -0.039745766\n",
       "X10  0.967675185  0.95811467  0.97630253 -0.051898504 -0.020041470\n",
       "X11  0.978193788  0.97533481  0.99268366  0.002945739 -0.006871948\n",
       "X13  0.978681796  0.97171049  0.98921646  0.003249422 -0.021517833\n",
       "X14  1.000000000  0.94932212  0.96452928 -0.005631884 -0.002865694\n",
       "X15  0.949322120  1.00000000  0.98533613 -0.035551428 -0.021399292\n",
       "X16  0.964529281  0.98533613  1.00000000 -0.017788588 -0.020441146\n",
       "Y1  -0.005631884 -0.03555143 -0.01778859  1.000000000 -0.001220496\n",
       "Y2  -0.002865694 -0.02139929 -0.02044115 -0.001220496  1.000000000"
      ]
     },
     "metadata": {},
     "output_type": "display_data"
    },
    {
     "data": {
      "image/png": "[encoded data removed]",
      "text/plain": [
       "Plot with title \"\""
      ]
     },
     "metadata": {},
     "output_type": "display_data"
    }
   ],
   "source": [
    "cor(naval_training_data)\n",
    "corrplot(cor(naval_training_data), method=\"color\", addCoef.col=\"#FF9933\",number.digits = 4 , number.cex=0.5)"
   ]
  },
  {
   "cell_type": "markdown",
   "metadata": {},
   "source": [
    "<font color=blue>None of the predictors have a strong correlation to the target variables. The above also shows us that all predictor variables are strongly correlated with each other. <b>This strongly indicates multicollinearity.</b> <p> However, the fact that some or all predictor variables are correlated among themselves <b>does\n",
    "    not, in general, inhibit our ability to obtain a good fit</b> nor does it tend to affect inferences about mean responses or predictions of new observations, provided these inferences are made within the region of observations. <i>(Kutner, Nachtsheim, Neter, & Li, 2005) </i>Thus, we can use these variables to predict Y1 and Y2 </p> <br> <br>\n",
    "    We also observe that <b>X6 and X7 have a correlation coefficient of 1</b>. Upon some googling of what a propeller torque is, we know that at any one time, the boat is only able to turn starboard (right) or port (left). Therefore, there is no need to keep both features. "
   ]
  },
  {
   "cell_type": "markdown",
   "metadata": {},
   "source": [
    "<font color = green>X7 is removed from dataframe"
   ]
  },
  {
   "cell_type": "code",
   "execution_count": 13,
   "metadata": {},
   "outputs": [
    {
     "data": {
      "text/html": [
       "<ol class=list-inline>\n",
       "\t<li>'X1'</li>\n",
       "\t<li>'X2'</li>\n",
       "\t<li>'X3'</li>\n",
       "\t<li>'X4'</li>\n",
       "\t<li>'X5'</li>\n",
       "\t<li>'X6'</li>\n",
       "\t<li>'X8'</li>\n",
       "\t<li>'X10'</li>\n",
       "\t<li>'X11'</li>\n",
       "\t<li>'X13'</li>\n",
       "\t<li>'X14'</li>\n",
       "\t<li>'X15'</li>\n",
       "\t<li>'X16'</li>\n",
       "\t<li>'Y1'</li>\n",
       "\t<li>'Y2'</li>\n",
       "</ol>\n"
      ],
      "text/latex": [
       "\\begin{enumerate*}\n",
       "\\item 'X1'\n",
       "\\item 'X2'\n",
       "\\item 'X3'\n",
       "\\item 'X4'\n",
       "\\item 'X5'\n",
       "\\item 'X6'\n",
       "\\item 'X8'\n",
       "\\item 'X10'\n",
       "\\item 'X11'\n",
       "\\item 'X13'\n",
       "\\item 'X14'\n",
       "\\item 'X15'\n",
       "\\item 'X16'\n",
       "\\item 'Y1'\n",
       "\\item 'Y2'\n",
       "\\end{enumerate*}\n"
      ],
      "text/markdown": [
       "1. 'X1'\n",
       "2. 'X2'\n",
       "3. 'X3'\n",
       "4. 'X4'\n",
       "5. 'X5'\n",
       "6. 'X6'\n",
       "7. 'X8'\n",
       "8. 'X10'\n",
       "9. 'X11'\n",
       "10. 'X13'\n",
       "11. 'X14'\n",
       "12. 'X15'\n",
       "13. 'X16'\n",
       "14. 'Y1'\n",
       "15. 'Y2'\n",
       "\n",
       "\n"
      ],
      "text/plain": [
       " [1] \"X1\"  \"X2\"  \"X3\"  \"X4\"  \"X5\"  \"X6\"  \"X8\"  \"X10\" \"X11\" \"X13\" \"X14\" \"X15\"\n",
       "[13] \"X16\" \"Y1\"  \"Y2\" "
      ]
     },
     "metadata": {},
     "output_type": "display_data"
    }
   ],
   "source": [
    "naval_training_data <- select(naval_training_data, -c(7))\n",
    "names(naval_training_data)"
   ]
  },
  {
   "cell_type": "markdown",
   "metadata": {},
   "source": [
    "## [Back to top](#Contents) "
   ]
  },
  {
   "cell_type": "markdown",
   "metadata": {},
   "source": [
    "# 5. Prediction using Linear Regression"
   ]
  },
  {
   "cell_type": "markdown",
   "metadata": {},
   "source": [
    "<font color=green> To know whether the model fits the data well, we have to test the model. Hence, we first randomly order the data and then split the data into a ratio of 8:2. 80% of the data will be used as a training set while 20% is used as the test set. "
   ]
  },
  {
   "cell_type": "code",
   "execution_count": 14,
   "metadata": {},
   "outputs": [
    {
     "data": {
      "text/html": [
       "8000"
      ],
      "text/latex": [
       "8000"
      ],
      "text/markdown": [
       "8000"
      ],
      "text/plain": [
       "[1] 8000"
      ]
     },
     "metadata": {},
     "output_type": "display_data"
    },
    {
     "data": {
      "text/html": [
       "2000"
      ],
      "text/latex": [
       "2000"
      ],
      "text/markdown": [
       "2000"
      ],
      "text/plain": [
       "[1] 2000"
      ]
     },
     "metadata": {},
     "output_type": "display_data"
    }
   ],
   "source": [
    "# Randomize data set\n",
    "set.seed(42)\n",
    "rows <- sample(nrow(naval_training_data))\n",
    "naval_training_data <- naval_training_data[rows, ]\n",
    "\n",
    "# We determine the row to split on and create the train and test set \n",
    "split <- round(nrow(naval_training_data) * 0.80)\n",
    "train_data <- naval_training_data[1:split,]  \n",
    "test_data <- naval_training_data[(split + 1):nrow(naval_training_data),]\n",
    "\n",
    "# Confirm that data is split 8:2\n",
    "nrow(train_data)\n",
    "nrow(test_data)"
   ]
  },
  {
   "cell_type": "markdown",
   "metadata": {},
   "source": [
    "# a. Predicting Y1"
   ]
  },
  {
   "cell_type": "markdown",
   "metadata": {},
   "source": [
    "### Checking for non-linear relations with variables"
   ]
  },
  {
   "cell_type": "markdown",
   "metadata": {},
   "source": [
    "<font color=green> We plot Y1 against all the other features. I used black as shades of gray are easier to differentiate to the eyes. ```geom_jitter()``` is a useful way of handling overplotting caused by the discreteness of Y1.   "
   ]
  },
  {
   "cell_type": "code",
   "execution_count": 15,
   "metadata": {},
   "outputs": [],
   "source": [
    "train_data %>% \n",
    "    gather(-Y1, key = \"var\", value = \"value\") %>%\n",
    "    ggplot(aes(x = value, y = Y1)) +  \n",
    "    geom_jitter(color = \"black\", width = 0.5, alpha = 0.05) +\n",
    "    facet_wrap(~ var, scales = \"free\") + \n",
    "    theme_minimal() +\n",
    "    xlab(\"Predictor\") +\n",
    "    ylab(\"Y1\") + \n",
    "    labs(title = 'Y1 against predictors', \n",
    "         caption = \"Y1 = GT Compressor decay state coefficient\")"
   ]
  },
  {
   "cell_type": "markdown",
   "metadata": {},
   "source": [
    "<font color=blue> Plotting Y1 against all the other predictors shows us barely any information that we can use for feature selection. "
   ]
  },
  {
   "cell_type": "markdown",
   "metadata": {},
   "source": [
    "### Modelling"
   ]
  },
  {
   "cell_type": "markdown",
   "metadata": {},
   "source": [
    "<font color=green> One way of selecting features is to pick all the features first. We model the data using all the variables we have as well as the independent squared variables. "
   ]
  },
  {
   "cell_type": "code",
   "execution_count": 38,
   "metadata": {},
   "outputs": [
    {
     "data": {
      "text/plain": [
       "\n",
       "Call:\n",
       "lm(formula = Y1 ~ . + I(X1^2) + I(X2^2) + I(X3^2) + I(X4^2) + \n",
       "    I(X5^2) + I(X6^2) + I(X8^2) + I(X10^2) + I(X11^2) + I(X13^2) + \n",
       "    I(X14^2) + I(X16^2) - X11, data = train_data)\n",
       "\n",
       "Residuals:\n",
       "       Min         1Q     Median         3Q        Max \n",
       "-0.0066699 -0.0024126  0.0000083  0.0024150  0.0072459 \n",
       "\n",
       "Coefficients:\n",
       "              Estimate Std. Error t value Pr(>|t|)    \n",
       "(Intercept) -6.117e+02  3.028e+01 -20.204  < 2e-16 ***\n",
       "X1           4.340e-01  7.157e-02   6.064 1.39e-09 ***\n",
       "X2          -1.438e-01  2.179e-02  -6.601 4.34e-11 ***\n",
       "X3           4.645e-06  9.692e-07   4.792 1.68e-06 ***\n",
       "X4           8.700e-04  6.102e-05  14.259  < 2e-16 ***\n",
       "X5           2.038e-04  2.218e-05   9.188  < 2e-16 ***\n",
       "X6          -5.980e-04  7.348e-05  -8.139 4.60e-16 ***\n",
       "X8           1.026e-03  1.390e-04   7.381 1.73e-13 ***\n",
       "X10         -1.264e-02  5.946e-04 -21.261  < 2e-16 ***\n",
       "X13          5.418e-02  6.581e-03   8.232  < 2e-16 ***\n",
       "X14          1.205e+03  5.945e+01  20.276  < 2e-16 ***\n",
       "X15         -2.644e-04  5.842e-05  -4.527 6.08e-06 ***\n",
       "X16         -5.658e-02  1.422e-02  -3.979 6.98e-05 ***\n",
       "Y2          -6.686e-03  1.175e-02  -0.569   0.5695    \n",
       "I(X1^2)     -1.452e-01  1.540e-02  -9.431  < 2e-16 ***\n",
       "I(X2^2)      1.817e-02  1.688e-03  10.766  < 2e-16 ***\n",
       "I(X3^2)     -3.065e-10  2.916e-11 -10.510  < 2e-16 ***\n",
       "I(X4^2)     -2.739e-07  1.707e-08 -16.049  < 2e-16 ***\n",
       "I(X5^2)     -1.917e-08  1.513e-09 -12.669  < 2e-16 ***\n",
       "I(X6^2)      7.261e-06  3.823e-07  18.992  < 2e-16 ***\n",
       "I(X8^2)     -4.939e-07  5.684e-08  -8.690  < 2e-16 ***\n",
       "I(X10^2)     6.665e-06  3.641e-07  18.306  < 2e-16 ***\n",
       "I(X11^2)     4.723e-03  2.203e-03   2.144   0.0321 *  \n",
       "I(X13^2)    -1.148e-03  1.427e-04  -8.043 1.01e-15 ***\n",
       "I(X14^2)    -5.900e+02  2.921e+01 -20.201  < 2e-16 ***\n",
       "I(X16^2)     3.532e-02  6.342e-03   5.569 2.64e-08 ***\n",
       "---\n",
       "Signif. codes:  0 '***' 0.001 '**' 0.01 '*' 0.05 '.' 0.1 ' ' 1\n",
       "\n",
       "Residual standard error: 0.002958 on 7974 degrees of freedom\n",
       "Multiple R-squared:  0.9629,\tAdjusted R-squared:  0.9628 \n",
       "F-statistic:  8277 on 25 and 7974 DF,  p-value: < 2.2e-16\n"
      ]
     },
     "metadata": {},
     "output_type": "display_data"
    }
   ],
   "source": [
    "base_Y1_model <- lm(Y1 ~ . + I(X1^2) + I(X2^2) + I(X3^2) + I(X4^2) + I(X5^2) + \n",
    "                    I(X6^2) + I(X8^2) + I(X10^2) + I(X11^2) + I(X13^2) + \n",
    "                    I(X14^2) + I(X16^2) - X11,\n",
    "                    data = train_data)\n",
    "summary(base_Y1_model)"
   ]
  },
  {
   "cell_type": "markdown",
   "metadata": {},
   "source": [
    "<font color=blue> The R-squared value is > 0.96. This could indicate that we are overfitting the model. Therefore, let's remove the variables that contributes towards our RMSE value. "
   ]
  },
  {
   "cell_type": "markdown",
   "metadata": {},
   "source": [
    "### Advanced linear regression "
   ]
  },
  {
   "cell_type": "markdown",
   "metadata": {},
   "source": [
    "<font color = green> <b>To choose the best regression model, we use stepwise regression</b> which helps us select a model by automatically adding or removing individual predictors, a step at a time, based on their statistical significance. The end result of this process is a single regression model, which makes it nice and simple."
   ]
  },
  {
   "cell_type": "code",
   "execution_count": 39,
   "metadata": {},
   "outputs": [
    {
     "data": {
      "text/plain": [
       "\n",
       "                               Selection Summary                                 \n",
       "--------------------------------------------------------------------------------\n",
       "        Variable                  Adj.                                              \n",
       "Step    Entered     R-Square    R-Square       C(p)            AIC         RMSE     \n",
       "--------------------------------------------------------------------------------\n",
       "   1    I(X10^2)      0.0031      0.0030    206241.3325    -44163.1089    0.0153    \n",
       "   2    X3            0.5261      0.5258     93850.2438    -50104.6987    0.0106    \n",
       "   3    X13           0.9599      0.9598       670.9087    -69820.6944    0.0031    \n",
       "   4    I(X1^2)       0.9625      0.9624        98.7900    -70369.6354    0.0030    \n",
       "   5    I(X2^2)       0.9628      0.9627        42.6993    -70425.5545    0.0030    \n",
       "   6    X1            0.9629      0.9628        24.3235    -70443.9698    0.0030    \n",
       "   7    X2                NA          NA             NA             NA        NA    \n",
       "   8    X4                NA          NA             NA             NA        NA    \n",
       "   9    X5                NA          NA             NA             NA        NA    \n",
       "  10    X6                NA          NA             NA             NA        NA    \n",
       "  11    X8                NA          NA             NA             NA        NA    \n",
       "  12    X10               NA          NA             NA             NA        NA    \n",
       "  13    X16               NA          NA             NA             NA        NA    \n",
       "  14    I(X3^2)           NA          NA             NA             NA        NA    \n",
       "  15    I(X4^2)           NA          NA             NA             NA        NA    \n",
       "  16    I(X5^2)           NA          NA             NA             NA        NA    \n",
       "  17    I(X6^2)           NA          NA             NA             NA        NA    \n",
       "  18    I(X11^2)          NA          NA             NA             NA        NA    \n",
       "  19    I(X13^2)          NA          NA             NA             NA        NA    \n",
       "  20    I(X14^2)          NA          NA             NA             NA        NA    \n",
       "  21    I(X16^2)          NA          NA             NA             NA        NA    \n",
       "  22    X14               NA          NA             NA             NA        NA    \n",
       "  23    I(X8^2)           NA          NA             NA             NA        NA    \n",
       "  24    X15               NA          NA             NA             NA        NA    \n",
       "--------------------------------------------------------------------------------"
      ]
     },
     "metadata": {},
     "output_type": "display_data"
    }
   ],
   "source": [
    "ols_step_forward_p(base_Y1_model)"
   ]
  },
  {
   "cell_type": "markdown",
   "metadata": {},
   "source": [
    "<font color =green> We select steps 1-6 as the variables in our new model. "
   ]
  },
  {
   "cell_type": "code",
   "execution_count": 40,
   "metadata": {},
   "outputs": [],
   "source": [
    "new_model <- lm(Y1 ~ I(X10^2) +\n",
    "               X3 + \n",
    "               X13 + \n",
    "               I(X1^2) + \n",
    "               I(X2^2) + \n",
    "               X1, \n",
    "               data = train_data)"
   ]
  },
  {
   "cell_type": "code",
   "execution_count": 41,
   "metadata": {},
   "outputs": [
    {
     "data": {
      "text/plain": [
       "\n",
       "Call:\n",
       "lm(formula = Y1 ~ I(X10^2) + X3 + X13 + I(X1^2) + I(X2^2) + X1, \n",
       "    data = train_data)\n",
       "\n",
       "Residuals:\n",
       "       Min         1Q     Median         3Q        Max \n",
       "-0.0250778 -0.0065384 -0.0001071  0.0066798  0.0235674 \n",
       "\n",
       "Coefficients:\n",
       "              Estimate Std. Error t value Pr(>|t|)    \n",
       "(Intercept)  1.285e+00  4.350e-03  295.43   <2e-16 ***\n",
       "I(X10^2)    -1.942e-06  1.479e-08 -131.31   <2e-16 ***\n",
       "X3          -1.435e-06  1.202e-07  -11.94   <2e-16 ***\n",
       "X13          4.344e-02  5.598e-04   77.60   <2e-16 ***\n",
       "I(X1^2)      1.256e-02  4.953e-04   25.35   <2e-16 ***\n",
       "I(X2^2)     -1.691e-03  5.519e-05  -30.64   <2e-16 ***\n",
       "X1           1.481e-02  2.230e-04   66.42   <2e-16 ***\n",
       "---\n",
       "Signif. codes:  0 '***' 0.001 '**' 0.01 '*' 0.05 '.' 0.1 ' ' 1\n",
       "\n",
       "Residual standard error: 0.008475 on 7993 degrees of freedom\n",
       "Multiple R-squared:  0.6946,\tAdjusted R-squared:  0.6944 \n",
       "F-statistic:  3030 on 6 and 7993 DF,  p-value: < 2.2e-16\n"
      ]
     },
     "metadata": {},
     "output_type": "display_data"
    }
   ],
   "source": [
    "summary(new_model)"
   ]
  },
  {
   "cell_type": "markdown",
   "metadata": {},
   "source": [
    "<font color =green> We eliminate outliers in our dataset and update the model as ```clean_Y1_model```."
   ]
  },
  {
   "cell_type": "code",
   "execution_count": 42,
   "metadata": {},
   "outputs": [
    {
     "data": {
      "text/html": [
       "7605"
      ],
      "text/latex": [
       "7605"
      ],
      "text/markdown": [
       "7605"
      ],
      "text/plain": [
       "[1] 7605"
      ]
     },
     "metadata": {},
     "output_type": "display_data"
    }
   ],
   "source": [
    "cd <- cooks.distance(new_model)\n",
    "train_data.clean <- train_data[abs(cd) < 4/nrow(train_data), ]\n",
    "nrow(train_data.clean)"
   ]
  },
  {
   "cell_type": "code",
   "execution_count": 43,
   "metadata": {},
   "outputs": [
    {
     "data": {
      "text/plain": [
       "Y1 ~ I(X10^2) + X3 + X13 + I(X1^2) + I(X2^2) + X1"
      ]
     },
     "metadata": {},
     "output_type": "display_data"
    }
   ],
   "source": [
    "formula(new_model)\n",
    "clean_Y1_model <- lm(formula(new_model), data = train_data.clean)"
   ]
  },
  {
   "cell_type": "code",
   "execution_count": 44,
   "metadata": {},
   "outputs": [
    {
     "data": {
      "text/plain": [
       "\n",
       "Call:\n",
       "lm(formula = formula(new_model), data = train_data.clean)\n",
       "\n",
       "Residuals:\n",
       "      Min        1Q    Median        3Q       Max \n",
       "-0.021142 -0.005881 -0.000150  0.005871  0.018700 \n",
       "\n",
       "Coefficients:\n",
       "              Estimate Std. Error t value Pr(>|t|)    \n",
       "(Intercept)  1.297e+00  3.966e-03  327.12   <2e-16 ***\n",
       "I(X10^2)    -2.096e-06  1.434e-08 -146.09   <2e-16 ***\n",
       "X3          -2.472e-06  1.127e-07  -21.94   <2e-16 ***\n",
       "X13          4.906e-02  5.532e-04   88.68   <2e-16 ***\n",
       "I(X1^2)      1.821e-02  4.684e-04   38.87   <2e-16 ***\n",
       "I(X2^2)     -2.329e-03  5.232e-05  -44.51   <2e-16 ***\n",
       "X1           1.554e-02  2.146e-04   72.44   <2e-16 ***\n",
       "---\n",
       "Signif. codes:  0 '***' 0.001 '**' 0.01 '*' 0.05 '.' 0.1 ' ' 1\n",
       "\n",
       "Residual standard error: 0.007659 on 7598 degrees of freedom\n",
       "Multiple R-squared:  0.7427,\tAdjusted R-squared:  0.7425 \n",
       "F-statistic:  3655 on 6 and 7598 DF,  p-value: < 2.2e-16\n"
      ]
     },
     "metadata": {},
     "output_type": "display_data"
    }
   ],
   "source": [
    "summary(clean_Y1_model)"
   ]
  },
  {
   "cell_type": "markdown",
   "metadata": {},
   "source": [
    "<font color =blue> A marked increase in R-squared value for our new cleaned model. All significant variables are included in this model. "
   ]
  },
  {
   "cell_type": "code",
   "execution_count": 45,
   "metadata": {},
   "outputs": [
    {
     "data": {
      "image/png": "[encoded data removed]",
      "text/plain": [
       "Plot with title \"\""
      ]
     },
     "metadata": {},
     "output_type": "display_data"
    },
    {
     "data": {
      "image/png": "[encoded data removed]",
      "text/plain": [
       "Plot with title \"\""
      ]
     },
     "metadata": {},
     "output_type": "display_data"
    },
    {
     "data": {
      "image/png": "[encoded data removed]",
      "text/plain": [
       "Plot with title \"\""
      ]
     },
     "metadata": {},
     "output_type": "display_data"
    },
    {
     "data": {
      "image/png": "[encoded data removed]",
      "text/plain": [
       "Plot with title \"\""
      ]
     },
     "metadata": {},
     "output_type": "display_data"
    }
   ],
   "source": [
    "plot(clean_Y1_model)"
   ]
  },
  {
   "cell_type": "markdown",
   "metadata": {},
   "source": [
    "<font color=blue>The discrete values of Y2 makes it difficult to observe if the values follow the model closely. However, we can still observe that most residuals have a low leverage in the Residuals vs Leverage graph."
   ]
  },
  {
   "cell_type": "markdown",
   "metadata": {},
   "source": [
    "<font color =green> Now we predict the values in ```test_data``` using ```clean_Y1_model```"
   ]
  },
  {
   "cell_type": "code",
   "execution_count": 46,
   "metadata": {},
   "outputs": [
    {
     "data": {
      "text/html": [
       "<table>\n",
       "<thead><tr><th></th><th scope=col>X1</th><th scope=col>X2</th><th scope=col>X3</th><th scope=col>X4</th><th scope=col>X5</th><th scope=col>X6</th><th scope=col>X8</th><th scope=col>X10</th><th scope=col>X11</th><th scope=col>X13</th><th scope=col>X14</th><th scope=col>X15</th><th scope=col>X16</th><th scope=col>Y1</th><th scope=col>Y2</th><th scope=col>Predicted</th><th scope=col>group_predicted</th></tr></thead>\n",
       "<tbody>\n",
       "\t<tr><th scope=row>9782</th><td>3.14     </td><td> 9       </td><td> 8381.37 </td><td>1386.77  </td><td>7166.29  </td><td> 60.38   </td><td> 588.87  </td><td>584.45   </td><td>1.39     </td><td> 7.42    </td><td>1.02     </td><td>12.38    </td><td>0.25     </td><td>0.95     </td><td>1.00     </td><td>0.9646088</td><td>0.99     </td></tr>\n",
       "\t<tr><th scope=row>1719</th><td>2.09     </td><td> 6       </td><td> 4535.72 </td><td>1393.74  </td><td>6759.03  </td><td> 31.38   </td><td> 542.95  </td><td>564.39   </td><td>1.27     </td><td> 6.87    </td><td>1.02     </td><td> 0.00    </td><td>0.18     </td><td>0.99     </td><td>0.98     </td><td>0.9839161</td><td>0.97     </td></tr>\n",
       "\t<tr><th scope=row>5075</th><td>1.14     </td><td> 3       </td><td> 2054.99 </td><td>1310.52  </td><td>6685.21  </td><td>  5.42   </td><td> 526.79  </td><td>556.07   </td><td>1.16     </td><td> 6.23    </td><td>1.02     </td><td>29.69    </td><td>0.18     </td><td>0.96     </td><td>0.99     </td><td>0.9704276</td><td>0.98     </td></tr>\n",
       "\t<tr><th scope=row>9835</th><td>5.14     </td><td>15       </td><td>21639.28 </td><td>1924.34  </td><td>8510.34  </td><td>175.31   </td><td> 714.83  </td><td>642.55   </td><td>2.07     </td><td>11.00    </td><td>1.03     </td><td>25.42    </td><td>0.50     </td><td>0.95     </td><td>0.99     </td><td>0.9553353</td><td>0.99     </td></tr>\n",
       "\t<tr><th scope=row>7172</th><td>4.16     </td><td>12       </td><td>14718.51 </td><td>1547.45  </td><td>7721.69  </td><td>113.74   </td><td> 631.69  </td><td>602.81   </td><td>1.66     </td><td> 8.94    </td><td>1.02     </td><td>16.83    </td><td>0.33     </td><td>0.99     </td><td>0.99     </td><td>0.9825476</td><td>0.97     </td></tr>\n",
       "\t<tr><th scope=row>3437</th><td>9.30     </td><td>27       </td><td>72779.21 </td><td>3560.41  </td><td>9770.42  </td><td>644.99   </td><td>1069.23  </td><td>777.39   </td><td>4.50     </td><td>22.34    </td><td>1.05     </td><td>88.34    </td><td>1.75     </td><td>0.97     </td><td>1.00     </td><td>0.9687055</td><td>0.98     </td></tr>\n",
       "</tbody>\n",
       "</table>\n"
      ],
      "text/latex": [
       "\\begin{tabular}{r|lllllllllllllllll}\n",
       "  & X1 & X2 & X3 & X4 & X5 & X6 & X8 & X10 & X11 & X13 & X14 & X15 & X16 & Y1 & Y2 & Predicted & group\\_predicted\\\\\n",
       "\\hline\n",
       "\t9782 & 3.14      &  9        &  8381.37  & 1386.77   & 7166.29   &  60.38    &  588.87   & 584.45    & 1.39      &  7.42     & 1.02      & 12.38     & 0.25      & 0.95      & 1.00      & 0.9646088 & 0.99     \\\\\n",
       "\t1719 & 2.09      &  6        &  4535.72  & 1393.74   & 6759.03   &  31.38    &  542.95   & 564.39    & 1.27      &  6.87     & 1.02      &  0.00     & 0.18      & 0.99      & 0.98      & 0.9839161 & 0.97     \\\\\n",
       "\t5075 & 1.14      &  3        &  2054.99  & 1310.52   & 6685.21   &   5.42    &  526.79   & 556.07    & 1.16      &  6.23     & 1.02      & 29.69     & 0.18      & 0.96      & 0.99      & 0.9704276 & 0.98     \\\\\n",
       "\t9835 & 5.14      & 15        & 21639.28  & 1924.34   & 8510.34   & 175.31    &  714.83   & 642.55    & 2.07      & 11.00     & 1.03      & 25.42     & 0.50      & 0.95      & 0.99      & 0.9553353 & 0.99     \\\\\n",
       "\t7172 & 4.16      & 12        & 14718.51  & 1547.45   & 7721.69   & 113.74    &  631.69   & 602.81    & 1.66      &  8.94     & 1.02      & 16.83     & 0.33      & 0.99      & 0.99      & 0.9825476 & 0.97     \\\\\n",
       "\t3437 & 9.30      & 27        & 72779.21  & 3560.41   & 9770.42   & 644.99    & 1069.23   & 777.39    & 4.50      & 22.34     & 1.05      & 88.34     & 1.75      & 0.97      & 1.00      & 0.9687055 & 0.98     \\\\\n",
       "\\end{tabular}\n"
      ],
      "text/markdown": [
       "\n",
       "| <!--/--> | X1 | X2 | X3 | X4 | X5 | X6 | X8 | X10 | X11 | X13 | X14 | X15 | X16 | Y1 | Y2 | Predicted | group_predicted |\n",
       "|---|---|---|---|---|---|---|---|---|---|---|---|---|---|---|---|---|---|\n",
       "| 9782 | 3.14      |  9        |  8381.37  | 1386.77   | 7166.29   |  60.38    |  588.87   | 584.45    | 1.39      |  7.42     | 1.02      | 12.38     | 0.25      | 0.95      | 1.00      | 0.9646088 | 0.99      |\n",
       "| 1719 | 2.09      |  6        |  4535.72  | 1393.74   | 6759.03   |  31.38    |  542.95   | 564.39    | 1.27      |  6.87     | 1.02      |  0.00     | 0.18      | 0.99      | 0.98      | 0.9839161 | 0.97      |\n",
       "| 5075 | 1.14      |  3        |  2054.99  | 1310.52   | 6685.21   |   5.42    |  526.79   | 556.07    | 1.16      |  6.23     | 1.02      | 29.69     | 0.18      | 0.96      | 0.99      | 0.9704276 | 0.98      |\n",
       "| 9835 | 5.14      | 15        | 21639.28  | 1924.34   | 8510.34   | 175.31    |  714.83   | 642.55    | 2.07      | 11.00     | 1.03      | 25.42     | 0.50      | 0.95      | 0.99      | 0.9553353 | 0.99      |\n",
       "| 7172 | 4.16      | 12        | 14718.51  | 1547.45   | 7721.69   | 113.74    |  631.69   | 602.81    | 1.66      |  8.94     | 1.02      | 16.83     | 0.33      | 0.99      | 0.99      | 0.9825476 | 0.97      |\n",
       "| 3437 | 9.30      | 27        | 72779.21  | 3560.41   | 9770.42   | 644.99    | 1069.23   | 777.39    | 4.50      | 22.34     | 1.05      | 88.34     | 1.75      | 0.97      | 1.00      | 0.9687055 | 0.98      |\n",
       "\n"
      ],
      "text/plain": [
       "     X1   X2 X3       X4      X5      X6     X8      X10    X11  X13   X14 \n",
       "9782 3.14  9  8381.37 1386.77 7166.29  60.38  588.87 584.45 1.39  7.42 1.02\n",
       "1719 2.09  6  4535.72 1393.74 6759.03  31.38  542.95 564.39 1.27  6.87 1.02\n",
       "5075 1.14  3  2054.99 1310.52 6685.21   5.42  526.79 556.07 1.16  6.23 1.02\n",
       "9835 5.14 15 21639.28 1924.34 8510.34 175.31  714.83 642.55 2.07 11.00 1.03\n",
       "7172 4.16 12 14718.51 1547.45 7721.69 113.74  631.69 602.81 1.66  8.94 1.02\n",
       "3437 9.30 27 72779.21 3560.41 9770.42 644.99 1069.23 777.39 4.50 22.34 1.05\n",
       "     X15   X16  Y1   Y2   Predicted group_predicted\n",
       "9782 12.38 0.25 0.95 1.00 0.9646088 0.99           \n",
       "1719  0.00 0.18 0.99 0.98 0.9839161 0.97           \n",
       "5075 29.69 0.18 0.96 0.99 0.9704276 0.98           \n",
       "9835 25.42 0.50 0.95 0.99 0.9553353 0.99           \n",
       "7172 16.83 0.33 0.99 0.99 0.9825476 0.97           \n",
       "3437 88.34 1.75 0.97 1.00 0.9687055 0.98           "
      ]
     },
     "metadata": {},
     "output_type": "display_data"
    }
   ],
   "source": [
    "test_data$Predicted <- predict(clean_Y1_model, newdata = test_data)\n",
    "head(test_data)"
   ]
  },
  {
   "cell_type": "markdown",
   "metadata": {},
   "source": [
    "<font color =green>As the Y1 values are discrete numerical values, the predicted Y1 values will need to be binned into the 6 discrete values (1, 0.99, 0.98, 0.97, 0.96, 0.95)"
   ]
  },
  {
   "cell_type": "code",
   "execution_count": 47,
   "metadata": {},
   "outputs": [
    {
     "data": {
      "text/html": [
       "<ol class=list-inline>\n",
       "\t<li>1.0085530140744</li>\n",
       "\t<li>0.993843552685858</li>\n",
       "\t<li>0.979134091297316</li>\n",
       "\t<li>0.964424629908774</li>\n",
       "\t<li>0.949715168520232</li>\n",
       "\t<li>0.93500570713169</li>\n",
       "\t<li>1.2</li>\n",
       "</ol>\n"
      ],
      "text/latex": [
       "\\begin{enumerate*}\n",
       "\\item 1.0085530140744\n",
       "\\item 0.993843552685858\n",
       "\\item 0.979134091297316\n",
       "\\item 0.964424629908774\n",
       "\\item 0.949715168520232\n",
       "\\item 0.93500570713169\n",
       "\\item 1.2\n",
       "\\end{enumerate*}\n"
      ],
      "text/markdown": [
       "1. 1.0085530140744\n",
       "2. 0.993843552685858\n",
       "3. 0.979134091297316\n",
       "4. 0.964424629908774\n",
       "5. 0.949715168520232\n",
       "6. 0.93500570713169\n",
       "7. 1.2\n",
       "\n",
       "\n"
      ],
      "text/plain": [
       "[1] 1.0085530 0.9938436 0.9791341 0.9644246 0.9497152 0.9350057 1.2000000"
      ]
     },
     "metadata": {},
     "output_type": "display_data"
    },
    {
     "data": {
      "text/html": [
       "<ol class=list-inline>\n",
       "\t<li>1</li>\n",
       "\t<li>0.99</li>\n",
       "\t<li>0.98</li>\n",
       "\t<li>0.97</li>\n",
       "\t<li>0.96</li>\n",
       "\t<li>0.95</li>\n",
       "</ol>\n"
      ],
      "text/latex": [
       "\\begin{enumerate*}\n",
       "\\item 1\n",
       "\\item 0.99\n",
       "\\item 0.98\n",
       "\\item 0.97\n",
       "\\item 0.96\n",
       "\\item 0.95\n",
       "\\end{enumerate*}\n"
      ],
      "text/markdown": [
       "1. 1\n",
       "2. 0.99\n",
       "3. 0.98\n",
       "4. 0.97\n",
       "5. 0.96\n",
       "6. 0.95\n",
       "\n",
       "\n"
      ],
      "text/plain": [
       "[1] 1.00 0.99 0.98 0.97 0.96 0.95"
      ]
     },
     "metadata": {},
     "output_type": "display_data"
    }
   ],
   "source": [
    "max <- max(test_data$Predicted)\n",
    "min <- min(test_data$Predicted)\n",
    "\n",
    "interval <- (max(test_data$Predicted) - min(test_data$Predicted)) / 6\n",
    "range <- c(1, 0.99, 0.98, 0.97, 0.96, 0.95)\n",
    "X = rep(0,6)\n",
    "for (i in 1:6) {\n",
    "    X[i] = max - interval*i\n",
    "}\n",
    "X <- append(X, 1.2)\n",
    "X\n",
    "range\n",
    "test_data$group_predicted <- as.numeric(as.character(cut(test_data$Predicted, breaks = X, labels = range)))"
   ]
  },
  {
   "cell_type": "markdown",
   "metadata": {},
   "source": [
    "<font color =green>```postResample()``` from the caret package is used to calculate the Rsquared value and RMSE "
   ]
  },
  {
   "cell_type": "code",
   "execution_count": 48,
   "metadata": {},
   "outputs": [
    {
     "data": {
      "text/html": [
       "<dl class=dl-horizontal>\n",
       "\t<dt>RMSE</dt>\n",
       "\t\t<dd>0.0232490915979542</dd>\n",
       "\t<dt>Rsquared</dt>\n",
       "\t\t<dd>0.604782595082074</dd>\n",
       "\t<dt>MAE</dt>\n",
       "\t\t<dd>0.0196248124062031</dd>\n",
       "</dl>\n"
      ],
      "text/latex": [
       "\\begin{description*}\n",
       "\\item[RMSE] 0.0232490915979542\n",
       "\\item[Rsquared] 0.604782595082074\n",
       "\\item[MAE] 0.0196248124062031\n",
       "\\end{description*}\n"
      ],
      "text/markdown": [
       "RMSE\n",
       ":   0.0232490915979542Rsquared\n",
       ":   0.604782595082074MAE\n",
       ":   0.0196248124062031\n",
       "\n"
      ],
      "text/plain": [
       "      RMSE   Rsquared        MAE \n",
       "0.02324909 0.60478260 0.01962481 "
      ]
     },
     "metadata": {},
     "output_type": "display_data"
    }
   ],
   "source": [
    "postResample(pred = test_data$group_predicted, obs = test_data$Y1)"
   ]
  },
  {
   "cell_type": "markdown",
   "metadata": {},
   "source": [
    "<font color =blue> The RMSE value indicates the absolute fit of the model to the data–how close the observed data points are to the model’s predicted values. <br> Despite the R squared value of 0.6, <b>achieving a RMSE value of 0.0232 means that the data points are close to the model's predicted values</b>. Therefore, we can use this model to predict the test dataset. "
   ]
  },
  {
   "cell_type": "markdown",
   "metadata": {},
   "source": [
    "## [Back to top](#Contents) "
   ]
  },
  {
   "cell_type": "markdown",
   "metadata": {},
   "source": [
    "# b. Predicting Y2"
   ]
  },
  {
   "cell_type": "markdown",
   "metadata": {},
   "source": [
    "### Modelling"
   ]
  },
  {
   "cell_type": "markdown",
   "metadata": {},
   "source": [
    "<font color=green> We repeat the same steps for predicting Y2. "
   ]
  },
  {
   "cell_type": "code",
   "execution_count": 26,
   "metadata": {},
   "outputs": [
    {
     "data": {
      "text/plain": [
       "\n",
       "Call:\n",
       "lm(formula = Y2 ~ X1 + X2 + X3 + X4 + X5 + X6 + X8 + X10 + X11 + \n",
       "    X13 + X14 + X15 + X16 - Y2 + I(X1^2) + I(X2^2) + I(X3^2) + \n",
       "    I(X4^2) + I(X5^2) + I(X6^2) + I(X8^2) + I(X10^2) + I(X11^2) + \n",
       "    I(X13^2) + I(X14^2) + I(X16^2) - X11, data = train_data)\n",
       "\n",
       "Residuals:\n",
       "       Min         1Q     Median         3Q        Max \n",
       "-0.0066256 -0.0022548  0.0002556  0.0023071  0.0068754 \n",
       "\n",
       "Coefficients:\n",
       "              Estimate Std. Error t value Pr(>|t|)    \n",
       "(Intercept)  2.244e+02  2.873e+01   7.811 6.41e-15 ***\n",
       "X1          -8.694e-01  6.748e-02 -12.885  < 2e-16 ***\n",
       "X2           2.723e-01  2.053e-02  13.262  < 2e-16 ***\n",
       "X3           2.160e-05  8.910e-07  24.246  < 2e-16 ***\n",
       "X4          -4.715e-04  5.788e-05  -8.145 4.36e-16 ***\n",
       "X5           3.004e-04  2.086e-05  14.402  < 2e-16 ***\n",
       "X6           3.575e-05  7.000e-05   0.511   0.6096    \n",
       "X8           2.178e-04  1.324e-04   1.645   0.1001    \n",
       "X10         -5.806e-03  5.627e-04 -10.319  < 2e-16 ***\n",
       "X13         -1.082e-01  6.151e-03 -17.597  < 2e-16 ***\n",
       "X14         -4.404e+02  5.642e+01  -7.806 6.66e-15 ***\n",
       "X15         -1.221e-04  5.563e-05  -2.195   0.0282 *  \n",
       "X16          8.181e-02  1.351e-02   6.054 1.48e-09 ***\n",
       "I(X1^2)      2.066e-01  1.449e-02  14.260  < 2e-16 ***\n",
       "I(X2^2)     -2.348e-02  1.586e-03 -14.803  < 2e-16 ***\n",
       "I(X3^2)     -5.448e-10  2.710e-11 -20.100  < 2e-16 ***\n",
       "I(X4^2)      1.778e-07  1.614e-08  11.017  < 2e-16 ***\n",
       "I(X5^2)     -1.391e-08  1.433e-09  -9.709  < 2e-16 ***\n",
       "I(X6^2)      1.907e-06  3.636e-07   5.245 1.60e-07 ***\n",
       "I(X8^2)     -9.244e-08  5.413e-08  -1.708   0.0877 .  \n",
       "I(X10^2)     3.680e-06  3.444e-07  10.687  < 2e-16 ***\n",
       "I(X11^2)     3.250e-03  2.098e-03   1.549   0.1214    \n",
       "I(X13^2)     1.783e-03  1.345e-04  13.255  < 2e-16 ***\n",
       "I(X14^2)     2.185e+02  2.771e+01   7.886 3.55e-15 ***\n",
       "I(X16^2)    -5.106e-02  6.014e-03  -8.490  < 2e-16 ***\n",
       "---\n",
       "Signif. codes:  0 '***' 0.001 '**' 0.01 '*' 0.05 '.' 0.1 ' ' 1\n",
       "\n",
       "Residual standard error: 0.002818 on 7975 degrees of freedom\n",
       "Multiple R-squared:  0.8669,\tAdjusted R-squared:  0.8665 \n",
       "F-statistic:  2164 on 24 and 7975 DF,  p-value: < 2.2e-16\n"
      ]
     },
     "metadata": {},
     "output_type": "display_data"
    }
   ],
   "source": [
    "base_Y2_model <- lm(Y2 ~ X1 + X2 + X3 + X4 + X5 + X6 + X8 + X10 + X11 + X13 + X14 + \n",
    "                    X15 + X16 - Y2 + \n",
    "                    I(X1^2) +\n",
    "                    I(X2^2) + \n",
    "                    I(X3^2) + \n",
    "                    I(X4^2) + \n",
    "                    I(X5^2) + \n",
    "                    I(X6^2) + \n",
    "                    I(X8^2) + \n",
    "                    I(X10^2) + \n",
    "                    I(X11^2) + \n",
    "                    I(X13^2) + \n",
    "                    I(X14^2) + \n",
    "                    I(X16^2) - \n",
    "                    X11,\n",
    "                data = train_data)\n",
    "summary(base_Y2_model)"
   ]
  },
  {
   "cell_type": "markdown",
   "metadata": {},
   "source": [
    "### Advanced linear regression"
   ]
  },
  {
   "cell_type": "markdown",
   "metadata": {},
   "source": [
    "<font color=green> I couldn't get the ```ols_step_forward_p()``` function to work. There seems to be a fundamental error. ```ols_step_backward_p()``` is used instead. It is almost the same thing but tells you which variables to eliminate from your model."
   ]
  },
  {
   "cell_type": "code",
   "execution_count": 27,
   "metadata": {},
   "outputs": [
    {
     "data": {
      "text/plain": [
       "\n",
       "\n",
       "                            Elimination Summary                              \n",
       "----------------------------------------------------------------------------\n",
       "        Variable                  Adj.                                          \n",
       "Step    Removed     R-Square    R-Square     C(p)          AIC         RMSE     \n",
       "----------------------------------------------------------------------------\n",
       "   1    X6            0.8669      0.8665    23.2608    -71221.7581    0.0028    \n",
       "----------------------------------------------------------------------------"
      ]
     },
     "metadata": {},
     "output_type": "display_data"
    }
   ],
   "source": [
    "ols_step_backward_p(base_Y2_model)"
   ]
  },
  {
   "cell_type": "code",
   "execution_count": 28,
   "metadata": {},
   "outputs": [
    {
     "data": {
      "text/plain": [
       "\n",
       "Call:\n",
       "lm(formula = Y2 ~ X1 + X2 + X3 + X4 + X5 + X6 + X8 + X10 + X11 + \n",
       "    X13 + X14 + X15 + X16 - Y2 + I(X1^2) + I(X2^2) + I(X3^2) + \n",
       "    I(X4^2) + I(X5^2) + I(X6^2) + I(X8^2) + I(X10^2) + I(X11^2) + \n",
       "    I(X13^2) + I(X14^2) + I(X16^2) - X11, data = train_data)\n",
       "\n",
       "Residuals:\n",
       "       Min         1Q     Median         3Q        Max \n",
       "-0.0066256 -0.0022548  0.0002556  0.0023071  0.0068754 \n",
       "\n",
       "Coefficients:\n",
       "              Estimate Std. Error t value Pr(>|t|)    \n",
       "(Intercept)  2.244e+02  2.873e+01   7.811 6.41e-15 ***\n",
       "X1          -8.694e-01  6.748e-02 -12.885  < 2e-16 ***\n",
       "X2           2.723e-01  2.053e-02  13.262  < 2e-16 ***\n",
       "X3           2.160e-05  8.910e-07  24.246  < 2e-16 ***\n",
       "X4          -4.715e-04  5.788e-05  -8.145 4.36e-16 ***\n",
       "X5           3.004e-04  2.086e-05  14.402  < 2e-16 ***\n",
       "X6           3.575e-05  7.000e-05   0.511   0.6096    \n",
       "X8           2.178e-04  1.324e-04   1.645   0.1001    \n",
       "X10         -5.806e-03  5.627e-04 -10.319  < 2e-16 ***\n",
       "X13         -1.082e-01  6.151e-03 -17.597  < 2e-16 ***\n",
       "X14         -4.404e+02  5.642e+01  -7.806 6.66e-15 ***\n",
       "X15         -1.221e-04  5.563e-05  -2.195   0.0282 *  \n",
       "X16          8.181e-02  1.351e-02   6.054 1.48e-09 ***\n",
       "I(X1^2)      2.066e-01  1.449e-02  14.260  < 2e-16 ***\n",
       "I(X2^2)     -2.348e-02  1.586e-03 -14.803  < 2e-16 ***\n",
       "I(X3^2)     -5.448e-10  2.710e-11 -20.100  < 2e-16 ***\n",
       "I(X4^2)      1.778e-07  1.614e-08  11.017  < 2e-16 ***\n",
       "I(X5^2)     -1.391e-08  1.433e-09  -9.709  < 2e-16 ***\n",
       "I(X6^2)      1.907e-06  3.636e-07   5.245 1.60e-07 ***\n",
       "I(X8^2)     -9.244e-08  5.413e-08  -1.708   0.0877 .  \n",
       "I(X10^2)     3.680e-06  3.444e-07  10.687  < 2e-16 ***\n",
       "I(X11^2)     3.250e-03  2.098e-03   1.549   0.1214    \n",
       "I(X13^2)     1.783e-03  1.345e-04  13.255  < 2e-16 ***\n",
       "I(X14^2)     2.185e+02  2.771e+01   7.886 3.55e-15 ***\n",
       "I(X16^2)    -5.106e-02  6.014e-03  -8.490  < 2e-16 ***\n",
       "---\n",
       "Signif. codes:  0 '***' 0.001 '**' 0.01 '*' 0.05 '.' 0.1 ' ' 1\n",
       "\n",
       "Residual standard error: 0.002818 on 7975 degrees of freedom\n",
       "Multiple R-squared:  0.8669,\tAdjusted R-squared:  0.8665 \n",
       "F-statistic:  2164 on 24 and 7975 DF,  p-value: < 2.2e-16\n"
      ]
     },
     "metadata": {},
     "output_type": "display_data"
    }
   ],
   "source": [
    "new_Y2_model <- lm(Y2 ~ X1 + X2 + X3 + X4 + X5 + X8 + X10 + X11 + X13 + X14 + \n",
    "                    X15 + X16 - Y2 + \n",
    "                    I(X1^2) +\n",
    "                    I(X2^2) + \n",
    "                    I(X3^2) + \n",
    "                    I(X4^2) + \n",
    "                    I(X5^2) + \n",
    "                    I(X6^2) + \n",
    "                    I(X8^2) + \n",
    "                    I(X10^2) + \n",
    "                    I(X11^2) + \n",
    "                    I(X13^2) + \n",
    "                    I(X14^2) + \n",
    "                    I(X16^2) - \n",
    "                    X11,\n",
    "                data = train_data)\n",
    "summary(base_Y2_model)"
   ]
  },
  {
   "cell_type": "code",
   "execution_count": 29,
   "metadata": {},
   "outputs": [
    {
     "data": {
      "text/plain": [
       "Y2 ~ X1 + X2 + X3 + X4 + X5 + X8 + X10 + X11 + X13 + X14 + X15 + \n",
       "    X16 - Y2 + I(X1^2) + I(X2^2) + I(X3^2) + I(X4^2) + I(X5^2) + \n",
       "    I(X6^2) + I(X8^2) + I(X10^2) + I(X11^2) + I(X13^2) + I(X14^2) + \n",
       "    I(X16^2) - X11"
      ]
     },
     "metadata": {},
     "output_type": "display_data"
    }
   ],
   "source": [
    "cd <- cooks.distance(new_Y2_model)\n",
    "formula(new_Y2_model)\n",
    "clean_Y2_model <- lm(formula(new_Y2_model), data = train_data.clean)"
   ]
  },
  {
   "cell_type": "code",
   "execution_count": 30,
   "metadata": {},
   "outputs": [
    {
     "data": {
      "image/png": "[encoded data removed]",
      "text/plain": [
       "Plot with title \"\""
      ]
     },
     "metadata": {},
     "output_type": "display_data"
    },
    {
     "data": {
      "image/png": "[encoded data removed]",
      "text/plain": [
       "Plot with title \"\""
      ]
     },
     "metadata": {},
     "output_type": "display_data"
    },
    {
     "data": {
      "image/png": "[encoded data removed]",
      "text/plain": [
       "Plot with title \"\""
      ]
     },
     "metadata": {},
     "output_type": "display_data"
    },
    {
     "data": {
      "image/png": "[encoded data removed]",
      "text/plain": [
       "Plot with title \"\""
      ]
     },
     "metadata": {},
     "output_type": "display_data"
    }
   ],
   "source": [
    "plot(clean_Y2_model)"
   ]
  },
  {
   "cell_type": "markdown",
   "metadata": {},
   "source": [
    "<font color=blue>The discrete values of Y2 makes it difficult to observe if the values follow the model closely. "
   ]
  },
  {
   "cell_type": "code",
   "execution_count": 31,
   "metadata": {},
   "outputs": [],
   "source": [
    "test_data$Predicted_Y2 <- predict(clean_Y2_model, newdata = test_data)\n",
    "\n",
    "max2 <- max(test_data$Predicted_Y2)\n",
    "min2 <- min(test_data$Predicted_Y2)\n",
    "interval2 <- (max(test_data$Predicted_Y2) - min(test_data$Predicted_Y2)) / 3\n",
    "range2 <- c(1, 0.99, 0.98)\n",
    "X2 = rep(0,3)\n",
    "for (i in 1:3) {\n",
    "    X2[i] = min2 + interval2*i\n",
    "}\n",
    "X2 <- append(X2, 1.2)\n",
    "test_data$group_predicted_Y2 <- as.numeric(as.character(cut(test_data$Predicted_Y2, breaks = X2, labels = range2)))"
   ]
  },
  {
   "cell_type": "markdown",
   "metadata": {},
   "source": [
    "<font color=green>Show test results "
   ]
  },
  {
   "cell_type": "code",
   "execution_count": 32,
   "metadata": {},
   "outputs": [
    {
     "data": {
      "text/plain": [
       "\n",
       "Call:\n",
       "lm(formula = formula(new_Y2_model), data = train_data.clean)\n",
       "\n",
       "Residuals:\n",
       "       Min         1Q     Median         3Q        Max \n",
       "-0.0065569 -0.0022990  0.0002521  0.0023288  0.0072040 \n",
       "\n",
       "Coefficients:\n",
       "              Estimate Std. Error t value Pr(>|t|)    \n",
       "(Intercept)  1.764e+02  3.151e+01   5.598 2.24e-08 ***\n",
       "X1          -7.812e-01  7.390e-02 -10.570  < 2e-16 ***\n",
       "X2           2.452e-01  2.251e-02  10.896  < 2e-16 ***\n",
       "X3           2.213e-05  9.498e-07  23.298  < 2e-16 ***\n",
       "X4          -4.428e-04  6.029e-05  -7.344 2.29e-13 ***\n",
       "X5           2.903e-04  2.202e-05  13.182  < 2e-16 ***\n",
       "X8           1.327e-04  1.405e-04   0.944   0.3451    \n",
       "X10         -5.371e-03  5.986e-04  -8.972  < 2e-16 ***\n",
       "X13         -1.093e-01  6.578e-03 -16.619  < 2e-16 ***\n",
       "X14         -3.463e+02  6.189e+01  -5.595 2.28e-08 ***\n",
       "X15         -9.126e-05  5.381e-05  -1.696   0.0899 .  \n",
       "X16          9.087e-02  1.399e-02   6.497 8.72e-11 ***\n",
       "I(X1^2)      1.853e-01  1.594e-02  11.623  < 2e-16 ***\n",
       "I(X2^2)     -2.115e-02  1.744e-03 -12.125  < 2e-16 ***\n",
       "I(X3^2)     -5.707e-10  2.786e-11 -20.485  < 2e-16 ***\n",
       "I(X4^2)      1.718e-07  1.641e-08  10.469  < 2e-16 ***\n",
       "I(X5^2)     -1.348e-08  1.503e-09  -8.968  < 2e-16 ***\n",
       "I(X6^2)      2.517e-06  3.635e-07   6.924 4.74e-12 ***\n",
       "I(X8^2)     -3.710e-08  5.763e-08  -0.644   0.5198    \n",
       "I(X10^2)     3.358e-06  3.660e-07   9.175  < 2e-16 ***\n",
       "I(X11^2)     2.834e-03  2.195e-03   1.291   0.1966    \n",
       "I(X13^2)     1.811e-03  1.442e-04  12.558  < 2e-16 ***\n",
       "I(X14^2)     1.723e+02  3.041e+01   5.667 1.50e-08 ***\n",
       "I(X16^2)    -5.756e-02  6.448e-03  -8.927  < 2e-16 ***\n",
       "---\n",
       "Signif. codes:  0 '***' 0.001 '**' 0.01 '*' 0.05 '.' 0.1 ' ' 1\n",
       "\n",
       "Residual standard error: 0.00283 on 7581 degrees of freedom\n",
       "Multiple R-squared:  0.8632,\tAdjusted R-squared:  0.8628 \n",
       "F-statistic:  2079 on 23 and 7581 DF,  p-value: < 2.2e-16\n"
      ]
     },
     "metadata": {},
     "output_type": "display_data"
    }
   ],
   "source": [
    "summary(clean_Y2_model)"
   ]
  },
  {
   "cell_type": "code",
   "execution_count": 33,
   "metadata": {},
   "outputs": [
    {
     "data": {
      "text/html": [
       "<dl class=dl-horizontal>\n",
       "\t<dt>RMSE</dt>\n",
       "\t\t<dd>0.010673035672956</dd>\n",
       "\t<dt>Rsquared</dt>\n",
       "\t\t<dd>0.516988623312664</dd>\n",
       "\t<dt>MAE</dt>\n",
       "\t\t<dd>0.00945684523809525</dd>\n",
       "</dl>\n"
      ],
      "text/latex": [
       "\\begin{description*}\n",
       "\\item[RMSE] 0.010673035672956\n",
       "\\item[Rsquared] 0.516988623312664\n",
       "\\item[MAE] 0.00945684523809525\n",
       "\\end{description*}\n"
      ],
      "text/markdown": [
       "RMSE\n",
       ":   0.010673035672956Rsquared\n",
       ":   0.516988623312664MAE\n",
       ":   0.00945684523809525\n",
       "\n"
      ],
      "text/plain": [
       "       RMSE    Rsquared         MAE \n",
       "0.010673036 0.516988623 0.009456845 "
      ]
     },
     "metadata": {},
     "output_type": "display_data"
    }
   ],
   "source": [
    "postResample(pred = test_data$group_predicted_Y2, obs = test_data$Y2)"
   ]
  },
  {
   "cell_type": "markdown",
   "metadata": {},
   "source": [
    "<font color=blue>The R-squared value of the model tested with the training data is significantly better but falls short when it comes to predicting new data. Nonetheless, the RMSE value is especially low which is good news. "
   ]
  },
  {
   "cell_type": "markdown",
   "metadata": {},
   "source": [
    "## [Back to top](#Contents) "
   ]
  },
  {
   "cell_type": "markdown",
   "metadata": {},
   "source": [
    "# 6. Predicting Test Set"
   ]
  },
  {
   "cell_type": "markdown",
   "metadata": {},
   "source": [
    "<font color=green>Lastly, we predict the response variables using our models on the second dataset provided."
   ]
  },
  {
   "cell_type": "markdown",
   "metadata": {},
   "source": [
    "<font color=green>Viewing test set"
   ]
  },
  {
   "cell_type": "code",
   "execution_count": 34,
   "metadata": {},
   "outputs": [
    {
     "data": {
      "text/html": [
       "<table>\n",
       "<thead><tr><th scope=col>X1</th><th scope=col>X2</th><th scope=col>X3</th><th scope=col>X4</th><th scope=col>X5</th><th scope=col>X6</th><th scope=col>X7</th><th scope=col>X8</th><th scope=col>X9</th><th scope=col>X10</th><th scope=col>X11</th><th scope=col>X12</th><th scope=col>X13</th><th scope=col>X14</th><th scope=col>X15</th><th scope=col>X16</th></tr></thead>\n",
       "<tbody>\n",
       "\t<tr><td>5.14    </td><td>15      </td><td>21627.91</td><td>1924.32 </td><td>8471.51 </td><td>175.24  </td><td>175.24  </td><td>709.63  </td><td>288     </td><td>637.08  </td><td>2.09    </td><td>1       </td><td>11.17   </td><td>1.03    </td><td>25.32   </td><td>0.50    </td></tr>\n",
       "\t<tr><td>1.14    </td><td> 3      </td><td> 1419.85</td><td>1388.02 </td><td>6671.01 </td><td>  9.72  </td><td>  9.72  </td><td>483.83  </td><td>288     </td><td>552.49  </td><td>1.15    </td><td>1       </td><td> 6.19   </td><td>1.02    </td><td> 0.47   </td><td>0.10    </td></tr>\n",
       "\t<tr><td>8.21    </td><td>24      </td><td>50996.80</td><td>3087.59 </td><td>9314.03 </td><td>438.12  </td><td>438.12  </td><td>938.44  </td><td>288     </td><td>737.21  </td><td>3.58    </td><td>1       </td><td>18.54   </td><td>1.04    </td><td>61.43   </td><td>1.22    </td></tr>\n",
       "\t<tr><td>5.14    </td><td>15      </td><td>21637.73</td><td>1924.34 </td><td>8505.35 </td><td>175.32  </td><td>175.32  </td><td>710.67  </td><td>288     </td><td>640.85  </td><td>2.08    </td><td>1       </td><td>11.00   </td><td>1.03    </td><td>25.22   </td><td>0.50    </td></tr>\n",
       "\t<tr><td>3.14    </td><td> 9      </td><td> 8376.33</td><td>1386.74 </td><td>7069.37 </td><td> 60.32  </td><td> 60.32  </td><td>575.13  </td><td>288     </td><td>576.87  </td><td>1.39    </td><td>1       </td><td> 7.47   </td><td>1.02    </td><td>11.88   </td><td>0.24    </td></tr>\n",
       "\t<tr><td>5.14    </td><td>15      </td><td>21623.73</td><td>1924.32 </td><td>8461.20 </td><td>175.20  </td><td>175.20  </td><td>695.24  </td><td>288     </td><td>631.94  </td><td>2.09    </td><td>1       </td><td>11.13   </td><td>1.03    </td><td>24.58   </td><td>0.49    </td></tr>\n",
       "</tbody>\n",
       "</table>\n"
      ],
      "text/latex": [
       "\\begin{tabular}{r|llllllllllllllll}\n",
       " X1 & X2 & X3 & X4 & X5 & X6 & X7 & X8 & X9 & X10 & X11 & X12 & X13 & X14 & X15 & X16\\\\\n",
       "\\hline\n",
       "\t 5.14     & 15       & 21627.91 & 1924.32  & 8471.51  & 175.24   & 175.24   & 709.63   & 288      & 637.08   & 2.09     & 1        & 11.17    & 1.03     & 25.32    & 0.50    \\\\\n",
       "\t 1.14     &  3       &  1419.85 & 1388.02  & 6671.01  &   9.72   &   9.72   & 483.83   & 288      & 552.49   & 1.15     & 1        &  6.19    & 1.02     &  0.47    & 0.10    \\\\\n",
       "\t 8.21     & 24       & 50996.80 & 3087.59  & 9314.03  & 438.12   & 438.12   & 938.44   & 288      & 737.21   & 3.58     & 1        & 18.54    & 1.04     & 61.43    & 1.22    \\\\\n",
       "\t 5.14     & 15       & 21637.73 & 1924.34  & 8505.35  & 175.32   & 175.32   & 710.67   & 288      & 640.85   & 2.08     & 1        & 11.00    & 1.03     & 25.22    & 0.50    \\\\\n",
       "\t 3.14     &  9       &  8376.33 & 1386.74  & 7069.37  &  60.32   &  60.32   & 575.13   & 288      & 576.87   & 1.39     & 1        &  7.47    & 1.02     & 11.88    & 0.24    \\\\\n",
       "\t 5.14     & 15       & 21623.73 & 1924.32  & 8461.20  & 175.20   & 175.20   & 695.24   & 288      & 631.94   & 2.09     & 1        & 11.13    & 1.03     & 24.58    & 0.49    \\\\\n",
       "\\end{tabular}\n"
      ],
      "text/markdown": [
       "\n",
       "| X1 | X2 | X3 | X4 | X5 | X6 | X7 | X8 | X9 | X10 | X11 | X12 | X13 | X14 | X15 | X16 |\n",
       "|---|---|---|---|---|---|---|---|---|---|---|---|---|---|---|---|\n",
       "| 5.14     | 15       | 21627.91 | 1924.32  | 8471.51  | 175.24   | 175.24   | 709.63   | 288      | 637.08   | 2.09     | 1        | 11.17    | 1.03     | 25.32    | 0.50     |\n",
       "| 1.14     |  3       |  1419.85 | 1388.02  | 6671.01  |   9.72   |   9.72   | 483.83   | 288      | 552.49   | 1.15     | 1        |  6.19    | 1.02     |  0.47    | 0.10     |\n",
       "| 8.21     | 24       | 50996.80 | 3087.59  | 9314.03  | 438.12   | 438.12   | 938.44   | 288      | 737.21   | 3.58     | 1        | 18.54    | 1.04     | 61.43    | 1.22     |\n",
       "| 5.14     | 15       | 21637.73 | 1924.34  | 8505.35  | 175.32   | 175.32   | 710.67   | 288      | 640.85   | 2.08     | 1        | 11.00    | 1.03     | 25.22    | 0.50     |\n",
       "| 3.14     |  9       |  8376.33 | 1386.74  | 7069.37  |  60.32   |  60.32   | 575.13   | 288      | 576.87   | 1.39     | 1        |  7.47    | 1.02     | 11.88    | 0.24     |\n",
       "| 5.14     | 15       | 21623.73 | 1924.32  | 8461.20  | 175.20   | 175.20   | 695.24   | 288      | 631.94   | 2.09     | 1        | 11.13    | 1.03     | 24.58    | 0.49     |\n",
       "\n"
      ],
      "text/plain": [
       "  X1   X2 X3       X4      X5      X6     X7     X8     X9  X10    X11  X12\n",
       "1 5.14 15 21627.91 1924.32 8471.51 175.24 175.24 709.63 288 637.08 2.09 1  \n",
       "2 1.14  3  1419.85 1388.02 6671.01   9.72   9.72 483.83 288 552.49 1.15 1  \n",
       "3 8.21 24 50996.80 3087.59 9314.03 438.12 438.12 938.44 288 737.21 3.58 1  \n",
       "4 5.14 15 21637.73 1924.34 8505.35 175.32 175.32 710.67 288 640.85 2.08 1  \n",
       "5 3.14  9  8376.33 1386.74 7069.37  60.32  60.32 575.13 288 576.87 1.39 1  \n",
       "6 5.14 15 21623.73 1924.32 8461.20 175.20 175.20 695.24 288 631.94 2.09 1  \n",
       "  X13   X14  X15   X16 \n",
       "1 11.17 1.03 25.32 0.50\n",
       "2  6.19 1.02  0.47 0.10\n",
       "3 18.54 1.04 61.43 1.22\n",
       "4 11.00 1.03 25.22 0.50\n",
       "5  7.47 1.02 11.88 0.24\n",
       "6 11.13 1.03 24.58 0.49"
      ]
     },
     "metadata": {},
     "output_type": "display_data"
    }
   ],
   "source": [
    "head(naval_test_data)"
   ]
  },
  {
   "cell_type": "markdown",
   "metadata": {},
   "source": [
    "<font color=green> Extract row 16 and predict its Y1 and Y2 value."
   ]
  },
  {
   "cell_type": "code",
   "execution_count": 35,
   "metadata": {},
   "outputs": [
    {
     "data": {
      "text/html": [
       "<table>\n",
       "<thead><tr><th></th><th scope=col>X1</th><th scope=col>X2</th><th scope=col>X3</th><th scope=col>X4</th><th scope=col>X5</th><th scope=col>X6</th><th scope=col>X7</th><th scope=col>X8</th><th scope=col>X9</th><th scope=col>X10</th><th scope=col>X11</th><th scope=col>X12</th><th scope=col>X13</th><th scope=col>X14</th><th scope=col>X15</th><th scope=col>X16</th></tr></thead>\n",
       "<tbody>\n",
       "\t<tr><th scope=row>16</th><td>2.09   </td><td>6      </td><td>3735.67</td><td>1386.74</td><td>6790.89</td><td>30.04  </td><td>30.04  </td><td>520.73 </td><td>288    </td><td>561.89 </td><td>1.24   </td><td>1      </td><td>6.66   </td><td>1.02   </td><td>0      </td><td>0.15   </td></tr>\n",
       "</tbody>\n",
       "</table>\n"
      ],
      "text/latex": [
       "\\begin{tabular}{r|llllllllllllllll}\n",
       "  & X1 & X2 & X3 & X4 & X5 & X6 & X7 & X8 & X9 & X10 & X11 & X12 & X13 & X14 & X15 & X16\\\\\n",
       "\\hline\n",
       "\t16 & 2.09    & 6       & 3735.67 & 1386.74 & 6790.89 & 30.04   & 30.04   & 520.73  & 288     & 561.89  & 1.24    & 1       & 6.66    & 1.02    & 0       & 0.15   \\\\\n",
       "\\end{tabular}\n"
      ],
      "text/markdown": [
       "\n",
       "| <!--/--> | X1 | X2 | X3 | X4 | X5 | X6 | X7 | X8 | X9 | X10 | X11 | X12 | X13 | X14 | X15 | X16 |\n",
       "|---|---|---|---|---|---|---|---|---|---|---|---|---|---|---|---|---|\n",
       "| 16 | 2.09    | 6       | 3735.67 | 1386.74 | 6790.89 | 30.04   | 30.04   | 520.73  | 288     | 561.89  | 1.24    | 1       | 6.66    | 1.02    | 0       | 0.15    |\n",
       "\n"
      ],
      "text/plain": [
       "   X1   X2 X3      X4      X5      X6    X7    X8     X9  X10    X11  X12 X13 \n",
       "16 2.09 6  3735.67 1386.74 6790.89 30.04 30.04 520.73 288 561.89 1.24 1   6.66\n",
       "   X14  X15 X16 \n",
       "16 1.02 0   0.15"
      ]
     },
     "metadata": {},
     "output_type": "display_data"
    },
    {
     "name": "stdout",
     "output_type": "stream",
     "text": [
      "[1] \"-----------------PREDICTED Y1 CONFIDENCE INTERVAL-----------------\"\n"
     ]
    },
    {
     "data": {
      "text/html": [
       "<table>\n",
       "<thead><tr><th></th><th scope=col>fit</th><th scope=col>lwr</th><th scope=col>upr</th></tr></thead>\n",
       "<tbody>\n",
       "\t<tr><th scope=row>16</th><td>0.9814918</td><td>0.9811613</td><td>0.9818223</td></tr>\n",
       "</tbody>\n",
       "</table>\n"
      ],
      "text/latex": [
       "\\begin{tabular}{r|lll}\n",
       "  & fit & lwr & upr\\\\\n",
       "\\hline\n",
       "\t16 & 0.9814918 & 0.9811613 & 0.9818223\\\\\n",
       "\\end{tabular}\n"
      ],
      "text/markdown": [
       "\n",
       "| <!--/--> | fit | lwr | upr |\n",
       "|---|---|---|---|\n",
       "| 16 | 0.9814918 | 0.9811613 | 0.9818223 |\n",
       "\n"
      ],
      "text/plain": [
       "   fit       lwr       upr      \n",
       "16 0.9814918 0.9811613 0.9818223"
      ]
     },
     "metadata": {},
     "output_type": "display_data"
    },
    {
     "name": "stdout",
     "output_type": "stream",
     "text": [
      "[1] \"-----------------PREDICTED Y2 CONFIDENCE INTERVAL-----------------\"\n"
     ]
    },
    {
     "data": {
      "text/html": [
       "<table>\n",
       "<thead><tr><th></th><th scope=col>fit</th><th scope=col>lwr</th><th scope=col>upr</th></tr></thead>\n",
       "<tbody>\n",
       "\t<tr><th scope=row>16</th><td>0.9849494</td><td>0.9846229</td><td>0.9852758</td></tr>\n",
       "</tbody>\n",
       "</table>\n"
      ],
      "text/latex": [
       "\\begin{tabular}{r|lll}\n",
       "  & fit & lwr & upr\\\\\n",
       "\\hline\n",
       "\t16 & 0.9849494 & 0.9846229 & 0.9852758\\\\\n",
       "\\end{tabular}\n"
      ],
      "text/markdown": [
       "\n",
       "| <!--/--> | fit | lwr | upr |\n",
       "|---|---|---|---|\n",
       "| 16 | 0.9849494 | 0.9846229 | 0.9852758 |\n",
       "\n"
      ],
      "text/plain": [
       "   fit       lwr       upr      \n",
       "16 0.9849494 0.9846229 0.9852758"
      ]
     },
     "metadata": {},
     "output_type": "display_data"
    }
   ],
   "source": [
    "naval_test_data[16,]\n",
    "print(\"-----------------PREDICTED Y1 CONFIDENCE INTERVAL-----------------\")\n",
    "predict(clean_Y1_model, newdata = naval_test_data[16,], interval = \"confidence\")\n",
    "print(\"-----------------PREDICTED Y2 CONFIDENCE INTERVAL-----------------\")\n",
    "predict(clean_Y2_model, newdata = naval_test_data[16,], interval = \"confidence\")"
   ]
  },
  {
   "cell_type": "markdown",
   "metadata": {},
   "source": [
    "<font color=blue>For the above values in row 16, we get a fitted value of Y1 as 0.9814 with a lower bound of 0.9811 and a higher bound of 0.9818. The same is done to predict Y2. "
   ]
  },
  {
   "cell_type": "markdown",
   "metadata": {},
   "source": [
    "<font color=green>Saving results to a .csv file"
   ]
  },
  {
   "cell_type": "code",
   "execution_count": 36,
   "metadata": {},
   "outputs": [],
   "source": [
    "test_result_Y2 <- data.frame(predict(clean_Y2_model, newdata = naval_test_data))\n",
    "write.csv(test_result_Y2, \"C:/Users/delim/Desktop/Data Science for Biz/Assignment 1/assign1_PredY2_Values.csv\", row.names = FALSE)\n",
    "\n",
    "test_result_Y1 <- data.frame(predict(clean_Y1_model, newdata = naval_test_data))\n",
    "write.csv(test_result_Y2, \"C:/Users/delim/Desktop/Data Science for Biz/Assignment 1/assign1_PredY1_Values.csv\", row.names = FALSE)"
   ]
  },
  {
   "cell_type": "markdown",
   "metadata": {},
   "source": [
    "## [Back to top](#Contents) "
   ]
  },
  {
   "cell_type": "markdown",
   "metadata": {},
   "source": [
    "# 7. References"
   ]
  },
  {
   "cell_type": "markdown",
   "metadata": {},
   "source": [
    "Kutner, M. H., Nachtsheim, C. J., Neter, J., & Li, W. (2005). Applied linear statistical models."
   ]
  },
  {
   "cell_type": "markdown",
   "metadata": {},
   "source": [
    "# 8. Grading Rubrics"
   ]
  },
  {
   "cell_type": "markdown",
   "metadata": {},
   "source": [
    "10% : Basic exploration of the data -- things that we talked about in class, basic statistics, basic visualizations <br>\n",
    "10% : Advanced exploration of the data -- any interesting observation on the dataset, or any data preparation <br>\n",
    "10% : Basic linear modeling for predicting Y1 -- things that we talked about in class, best subset of variables <br>\n",
    "10% : Advanced linear modeling for predicting Y1 -- anything extra, like non-linearity, interactions, outliers etc <br>\n",
    "10% : Basic linear modeling for predicting Y2 -- things that we talked about in class, best subset of variables <br>\n",
    "10% : Advanced linear modeling for predicting Y2 -- anything extra, like non-linearity, interactions, outliers etc <br>\n",
    "10% : Overall presentation of the Rmdworksheet -- logical organization of analysis, comments, code, visuals etc<br>\n",
    "10% : Prediction of Y1 and Y2 in the Pred dataset -- considering predicted values, and the appropriate intervals<br>\n",
    "10% : Prediction accuracy of Y1 and Y2 -- I have the actual values of course, and you will be judged on RMSE <br>\n",
    "10% : Reserved as \"extra credit\" in case of any out-of-the-box solution, observation, treatment in your work <br>"
   ]
  },
  {
   "cell_type": "markdown",
   "metadata": {},
   "source": [
    "# 9. Using R in Jupyter Notebook"
   ]
  },
  {
   "cell_type": "markdown",
   "metadata": {},
   "source": [
    "https://docs.anaconda.com/anaconda/navigator/tutorials/r-lang/"
   ]
  }
 ],
 "metadata": {
  "kernelspec": {
   "display_name": "R",
   "language": "R",
   "name": "ir"
  },
  "language_info": {
   "codemirror_mode": "r",
   "file_extension": ".r",
   "mimetype": "text/x-r-source",
   "name": "R",
   "pygments_lexer": "r",
   "version": "3.6.1"
  }
 },
 "nbformat": 4,
 "nbformat_minor": 2
}
